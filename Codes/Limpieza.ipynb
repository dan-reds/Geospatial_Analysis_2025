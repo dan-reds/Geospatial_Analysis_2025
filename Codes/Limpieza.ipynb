{
 "cells": [
  {
   "cell_type": "markdown",
   "id": "267528db-5885-4168-b42b-48d671f44f66",
   "metadata": {},
   "source": [
    "Primer ensayo de visualización y limpieza de los reportes de Espeletia de Gbif  \n",
    "\n",
    "Daniel A. Rojas Hernandez"
   ]
  },
  {
   "cell_type": "code",
   "execution_count": 1,
   "id": "1f2d5934-b33f-4fad-a939-cfecb02ee7b6",
   "metadata": {},
   "outputs": [],
   "source": [
    "import pandas as pd\n",
    "from pprint import pprint\n",
    "\n",
    "ruta = \"C:/Users/danie/Documents/ESPECIALIZACION-ANALITICA/03_Analisis Geoespacial/Ocurrence_Espeletia_All.csv\"\n",
    "df = pd.read_csv(ruta, sep=\";\")  # o el método de carga que uses\n"
   ]
  },
  {
   "cell_type": "code",
   "execution_count": 2,
   "id": "0a78a45e-9bf1-4169-8b0e-af9a47022bf9",
   "metadata": {},
   "outputs": [
    {
     "name": "stdout",
     "output_type": "stream",
     "text": [
      "<class 'pandas.core.frame.DataFrame'>\n",
      "RangeIndex: 39472 entries, 0 to 39471\n",
      "Data columns (total 50 columns):\n",
      " #   Column                            Non-Null Count  Dtype  \n",
      "---  ------                            --------------  -----  \n",
      " 0   gbifID                            39472 non-null  int64  \n",
      " 1   datasetKey                        39472 non-null  object \n",
      " 2   occurrenceID                      39371 non-null  object \n",
      " 3   kingdom                           39472 non-null  object \n",
      " 4   phylum                            39472 non-null  object \n",
      " 5   class                             39472 non-null  object \n",
      " 6   order                             39472 non-null  object \n",
      " 7   family                            39472 non-null  object \n",
      " 8   genus                             39472 non-null  object \n",
      " 9   species                           36805 non-null  object \n",
      " 10  infraspecificEpithet              2683 non-null   object \n",
      " 11  taxonRank                         39472 non-null  object \n",
      " 12  scientificName                    39472 non-null  object \n",
      " 13  verbatimScientificName            39436 non-null  object \n",
      " 14  verbatimScientificNameAuthorship  29793 non-null  object \n",
      " 15  countryCode                       38013 non-null  object \n",
      " 16  locality                          35229 non-null  object \n",
      " 17  stateProvince                     31280 non-null  object \n",
      " 18  occurrenceStatus                  36379 non-null  object \n",
      " 19  individualCount                   11304 non-null  float64\n",
      " 20  publishingOrgKey                  36379 non-null  object \n",
      " 21  decimalLatitude                   24083 non-null  float64\n",
      " 22  decimalLongitude                  24083 non-null  float64\n",
      " 23  coordinateUncertaintyInMeters     3421 non-null   float64\n",
      " 24  coordinatePrecision               15 non-null     float64\n",
      " 25  elevation                         25336 non-null  float64\n",
      " 26  elevationAccuracy                 19284 non-null  float64\n",
      " 27  depth                             1 non-null      float64\n",
      " 28  depthAccuracy                     1 non-null      float64\n",
      " 29  eventDate                         34064 non-null  object \n",
      " 30  day                               30513 non-null  float64\n",
      " 31  month                             33457 non-null  float64\n",
      " 32  year                              34000 non-null  float64\n",
      " 33  taxonKey                          36379 non-null  float64\n",
      " 34  speciesKey                        33842 non-null  float64\n",
      " 35  basisOfRecord                     36379 non-null  object \n",
      " 36  institutionCode                   35004 non-null  object \n",
      " 37  collectionCode                    30635 non-null  object \n",
      " 38  catalogNumber                     28591 non-null  object \n",
      " 39  recordNumber                      21414 non-null  object \n",
      " 40  identifiedBy                      16810 non-null  object \n",
      " 41  dateIdentified                    8741 non-null   object \n",
      " 42  license                           31909 non-null  object \n",
      " 43  rightsHolder                      12160 non-null  object \n",
      " 44  recordedBy                        30657 non-null  object \n",
      " 45  typeStatus                        1155 non-null   object \n",
      " 46  establishmentMeans                6 non-null      object \n",
      " 47  lastInterpreted                   20918 non-null  object \n",
      " 48  mediaType                         10396 non-null  object \n",
      " 49  issue                             18078 non-null  object \n",
      "dtypes: float64(14), int64(1), object(35)\n",
      "memory usage: 15.1+ MB\n",
      "None\n"
     ]
    }
   ],
   "source": [
    "print(df.info())     # Revisa tipos de datos y nulos"
   ]
  },
  {
   "cell_type": "code",
   "execution_count": 3,
   "id": "f02529f6",
   "metadata": {},
   "outputs": [
    {
     "data": {
      "application/vnd.microsoft.datawrangler.viewer.v0+json": {
       "columns": [
        {
         "name": "index",
         "rawType": "object",
         "type": "string"
        },
        {
         "name": "gbifID",
         "rawType": "float64",
         "type": "float"
        },
        {
         "name": "datasetKey",
         "rawType": "object",
         "type": "unknown"
        },
        {
         "name": "occurrenceID",
         "rawType": "object",
         "type": "unknown"
        },
        {
         "name": "kingdom",
         "rawType": "object",
         "type": "unknown"
        },
        {
         "name": "phylum",
         "rawType": "object",
         "type": "unknown"
        },
        {
         "name": "class",
         "rawType": "object",
         "type": "unknown"
        },
        {
         "name": "order",
         "rawType": "object",
         "type": "unknown"
        },
        {
         "name": "family",
         "rawType": "object",
         "type": "unknown"
        },
        {
         "name": "genus",
         "rawType": "object",
         "type": "unknown"
        },
        {
         "name": "species",
         "rawType": "object",
         "type": "unknown"
        },
        {
         "name": "infraspecificEpithet",
         "rawType": "object",
         "type": "unknown"
        },
        {
         "name": "taxonRank",
         "rawType": "object",
         "type": "unknown"
        },
        {
         "name": "scientificName",
         "rawType": "object",
         "type": "unknown"
        },
        {
         "name": "verbatimScientificName",
         "rawType": "object",
         "type": "unknown"
        },
        {
         "name": "verbatimScientificNameAuthorship",
         "rawType": "object",
         "type": "unknown"
        },
        {
         "name": "countryCode",
         "rawType": "object",
         "type": "unknown"
        },
        {
         "name": "locality",
         "rawType": "object",
         "type": "unknown"
        },
        {
         "name": "stateProvince",
         "rawType": "object",
         "type": "unknown"
        },
        {
         "name": "occurrenceStatus",
         "rawType": "object",
         "type": "unknown"
        },
        {
         "name": "individualCount",
         "rawType": "float64",
         "type": "float"
        },
        {
         "name": "publishingOrgKey",
         "rawType": "object",
         "type": "unknown"
        },
        {
         "name": "decimalLatitude",
         "rawType": "float64",
         "type": "float"
        },
        {
         "name": "decimalLongitude",
         "rawType": "float64",
         "type": "float"
        },
        {
         "name": "coordinateUncertaintyInMeters",
         "rawType": "float64",
         "type": "float"
        },
        {
         "name": "coordinatePrecision",
         "rawType": "float64",
         "type": "float"
        },
        {
         "name": "elevation",
         "rawType": "float64",
         "type": "float"
        },
        {
         "name": "elevationAccuracy",
         "rawType": "float64",
         "type": "float"
        },
        {
         "name": "depth",
         "rawType": "float64",
         "type": "float"
        },
        {
         "name": "depthAccuracy",
         "rawType": "float64",
         "type": "float"
        },
        {
         "name": "eventDate",
         "rawType": "object",
         "type": "unknown"
        },
        {
         "name": "day",
         "rawType": "float64",
         "type": "float"
        },
        {
         "name": "month",
         "rawType": "float64",
         "type": "float"
        },
        {
         "name": "year",
         "rawType": "float64",
         "type": "float"
        },
        {
         "name": "taxonKey",
         "rawType": "float64",
         "type": "float"
        },
        {
         "name": "speciesKey",
         "rawType": "float64",
         "type": "float"
        },
        {
         "name": "basisOfRecord",
         "rawType": "object",
         "type": "unknown"
        },
        {
         "name": "institutionCode",
         "rawType": "object",
         "type": "unknown"
        },
        {
         "name": "collectionCode",
         "rawType": "object",
         "type": "unknown"
        },
        {
         "name": "catalogNumber",
         "rawType": "object",
         "type": "unknown"
        },
        {
         "name": "recordNumber",
         "rawType": "object",
         "type": "unknown"
        },
        {
         "name": "identifiedBy",
         "rawType": "object",
         "type": "unknown"
        },
        {
         "name": "dateIdentified",
         "rawType": "object",
         "type": "unknown"
        },
        {
         "name": "license",
         "rawType": "object",
         "type": "unknown"
        },
        {
         "name": "rightsHolder",
         "rawType": "object",
         "type": "unknown"
        },
        {
         "name": "recordedBy",
         "rawType": "object",
         "type": "unknown"
        },
        {
         "name": "typeStatus",
         "rawType": "object",
         "type": "unknown"
        },
        {
         "name": "establishmentMeans",
         "rawType": "object",
         "type": "unknown"
        },
        {
         "name": "lastInterpreted",
         "rawType": "object",
         "type": "unknown"
        },
        {
         "name": "mediaType",
         "rawType": "object",
         "type": "unknown"
        },
        {
         "name": "issue",
         "rawType": "object",
         "type": "unknown"
        }
       ],
       "ref": "f798f4e1-22e9-45d7-b16b-864273576204",
       "rows": [
        [
         "count",
         "39472.0",
         "39472",
         "39371",
         "39472",
         "39472",
         "39472",
         "39472",
         "39472",
         "39472",
         "36805",
         "2683",
         "39472",
         "39472",
         "39436",
         "29793",
         "38013",
         "35229",
         "31280",
         "36379",
         "11304.0",
         "36379",
         "24083.0",
         "24083.0",
         "3421.0",
         "15.0",
         "25336.0",
         "19284.0",
         "1.0",
         "1.0",
         "34064",
         "30513.0",
         "33457.0",
         "34000.0",
         "36379.0",
         "33842.0",
         "36379",
         "35004",
         "30635",
         "28591",
         "21414",
         "16810",
         "8741",
         "31909",
         "12160",
         "30657",
         "1155",
         "6",
         "20918",
         "10396",
         "18078"
        ],
        [
         "unique",
         null,
         "237",
         "39370",
         "1",
         "1",
         "1",
         "1",
         "1",
         "1",
         "161",
         "74",
         "5",
         "373",
         "956",
         "157",
         "10",
         "8011",
         "100",
         "2",
         null,
         "124",
         null,
         null,
         null,
         null,
         null,
         null,
         null,
         null,
         "4883",
         null,
         null,
         null,
         null,
         null,
         "8",
         "156",
         "140",
         "27845",
         "7654",
         "954",
         "1860",
         "4",
         "637",
         "2572",
         "10",
         "1",
         "16852",
         "2",
         "37"
        ],
        [
         "top",
         null,
         "821cc27a-e3bb-4bc5-ac34-89ada245069d",
         "1905111B-717E-461D-B54A-69FA3FD2683F/527",
         "Plantae",
         "Tracheophyta",
         "Magnoliopsida",
         "Asterales",
         "Asteraceae",
         "Espeletia",
         "Espeletia grandiflora",
         "attenuata",
         "SPECIES",
         "Espeletia grandiflora Humb. & Bonpl.",
         "Espeletia grandiflora",
         "Cuatrec.",
         "CO",
         "Parque Nacional Natural del Cocuy",
         "Cundinamarca",
         "PRESENT",
         null,
         "2a7e3080-28a9-11dd-97cd-b8a03c50a862",
         null,
         null,
         null,
         null,
         null,
         null,
         null,
         null,
         "18/03/2014",
         null,
         null,
         null,
         null,
         null,
         "PRESERVED_SPECIMEN",
         "US",
         "IAvH",
         "En proceso",
         "Cuatrecasas, J",
         "Gil-Leguizamón, P.A.",
         "2014-09-10T00:00:00",
         "CC_BY_NC_4_0",
         "Parques Nacionales Naturales de Colombia",
         "Janis Morales",
         "Isotype",
         "native",
         "2025-01-31T18:01:26.336Z",
         "StillImage",
         "OCCURRENCE_STATUS_INFERRED_FROM_INDIVIDUAL_COUNT"
        ],
        [
         "freq",
         null,
         "6933",
         "2",
         "39472",
         "39472",
         "39472",
         "39472",
         "39472",
         "39472",
         "4406",
         "278",
         "34122",
         "3977",
         "3491",
         "11626",
         "30199",
         "3195",
         "7105",
         "36354",
         null,
         "8190",
         null,
         null,
         null,
         null,
         null,
         null,
         null,
         null,
         "541",
         null,
         null,
         null,
         null,
         null,
         "17922",
         "6686",
         "6687",
         "76",
         "382",
         "2009",
         "985",
         "13402",
         "3624",
         "1344",
         "748",
         "6",
         "17",
         "10384",
         "4691"
        ],
        [
         "mean",
         "2209068685.988701",
         null,
         null,
         null,
         null,
         null,
         null,
         null,
         null,
         null,
         null,
         null,
         null,
         null,
         null,
         null,
         null,
         null,
         null,
         "5.983103326256193",
         null,
         "5.19415304756052",
         "-73.88256076213928",
         "7677.616895644548",
         "1.9980000000000002e-05",
         "3369.518571795074",
         "25.659866988176727",
         "0.0",
         "0.0",
         null,
         "15.70992691639629",
         "6.215141823833577",
         "1995.7125",
         "3626751.326644493",
         "3593189.17942202",
         null,
         null,
         null,
         null,
         null,
         null,
         null,
         null,
         null,
         null,
         null,
         null,
         null,
         null,
         null
        ],
        [
         "std",
         "1132859139.8432524",
         null,
         null,
         null,
         null,
         null,
         null,
         null,
         null,
         null,
         null,
         null,
         null,
         null,
         null,
         null,
         null,
         null,
         null,
         "17.901456870215963",
         null,
         "2.1076528407100854",
         "2.6920868931194675",
         "62973.88033283362",
         "1.688618200947576e-05",
         "447.34276489813044",
         "93.2856671242977",
         null,
         null,
         null,
         "8.84694323848369",
         "3.3001067379809657",
         "25.67960631093698",
         "1465240.4065909525",
         "1541229.6621739685",
         null,
         null,
         null,
         null,
         null,
         null,
         null,
         null,
         null,
         null,
         null,
         null,
         null,
         null,
         null
        ],
        [
         "min",
         "758249.0",
         null,
         null,
         null,
         null,
         null,
         null,
         null,
         null,
         null,
         null,
         null,
         null,
         null,
         null,
         null,
         null,
         null,
         null,
         "1.0",
         null,
         "-2.81666",
         "-78.916667",
         "1.0",
         "0.0",
         "0.0",
         "0.0",
         "0.0",
         "0.0",
         null,
         "1.0",
         "1.0",
         "1760.0",
         "3091940.0",
         "3091942.0",
         null,
         null,
         null,
         null,
         null,
         null,
         null,
         null,
         null,
         null,
         null,
         null,
         null,
         null,
         null
        ],
        [
         "25%",
         "1318237384.0",
         null,
         null,
         null,
         null,
         null,
         null,
         null,
         null,
         null,
         null,
         null,
         null,
         null,
         null,
         null,
         null,
         null,
         null,
         "1.0",
         null,
         "4.5284",
         "-75.27697850000001",
         "150.0",
         "0.0",
         "3200.0",
         "0.0",
         "0.0",
         "0.0",
         null,
         "8.0",
         "3.0",
         "1973.0",
         "3105059.0",
         "3105059.0",
         null,
         null,
         null,
         null,
         null,
         null,
         null,
         null,
         null,
         null,
         null,
         null,
         null,
         null,
         null
        ],
        [
         "50%",
         "1836149098.0",
         null,
         null,
         null,
         null,
         null,
         null,
         null,
         null,
         null,
         null,
         null,
         null,
         null,
         null,
         null,
         null,
         null,
         null,
         "1.0",
         null,
         "5.411056",
         "-73.81461",
         "1000.0",
         "3.33e-05",
         "3400.0",
         "0.0",
         "0.0",
         "0.0",
         null,
         "16.0",
         "6.0",
         "2011.0",
         "3105089.0",
         "3105081.5",
         null,
         null,
         null,
         null,
         null,
         null,
         null,
         null,
         null,
         null,
         null,
         null,
         null,
         null,
         null
        ],
        [
         "75%",
         "3090529493.75",
         null,
         null,
         null,
         null,
         null,
         null,
         null,
         null,
         null,
         null,
         null,
         null,
         null,
         null,
         null,
         null,
         null,
         null,
         "1.0",
         null,
         "6.347861",
         "-72.590306",
         "2500.0",
         "3.33e-05",
         "3595.0",
         "3.0",
         "0.0",
         "0.0",
         null,
         "23.0",
         "9.0",
         "2015.0",
         "3122388.0",
         "3109147.0",
         null,
         null,
         null,
         null,
         null,
         null,
         null,
         null,
         null,
         null,
         null,
         null,
         null,
         null,
         null
        ],
        [
         "max",
         "5154563536.0",
         null,
         null,
         null,
         null,
         null,
         null,
         null,
         null,
         null,
         null,
         null,
         null,
         null,
         null,
         null,
         null,
         null,
         null,
         "625.0",
         null,
         "80.353",
         "37.30972",
         "1601005.0",
         "3.33e-05",
         "14000.0",
         "5250.0",
         "0.0",
         "0.0",
         null,
         "31.0",
         "12.0",
         "2025.0",
         "11213890.0",
         "11217472.0",
         null,
         null,
         null,
         null,
         null,
         null,
         null,
         null,
         null,
         null,
         null,
         null,
         null,
         null,
         null
        ]
       ],
       "shape": {
        "columns": 50,
        "rows": 11
       }
      },
      "text/html": [
       "<div>\n",
       "<style scoped>\n",
       "    .dataframe tbody tr th:only-of-type {\n",
       "        vertical-align: middle;\n",
       "    }\n",
       "\n",
       "    .dataframe tbody tr th {\n",
       "        vertical-align: top;\n",
       "    }\n",
       "\n",
       "    .dataframe thead th {\n",
       "        text-align: right;\n",
       "    }\n",
       "</style>\n",
       "<table border=\"1\" class=\"dataframe\">\n",
       "  <thead>\n",
       "    <tr style=\"text-align: right;\">\n",
       "      <th></th>\n",
       "      <th>gbifID</th>\n",
       "      <th>datasetKey</th>\n",
       "      <th>occurrenceID</th>\n",
       "      <th>kingdom</th>\n",
       "      <th>phylum</th>\n",
       "      <th>class</th>\n",
       "      <th>order</th>\n",
       "      <th>family</th>\n",
       "      <th>genus</th>\n",
       "      <th>species</th>\n",
       "      <th>...</th>\n",
       "      <th>identifiedBy</th>\n",
       "      <th>dateIdentified</th>\n",
       "      <th>license</th>\n",
       "      <th>rightsHolder</th>\n",
       "      <th>recordedBy</th>\n",
       "      <th>typeStatus</th>\n",
       "      <th>establishmentMeans</th>\n",
       "      <th>lastInterpreted</th>\n",
       "      <th>mediaType</th>\n",
       "      <th>issue</th>\n",
       "    </tr>\n",
       "  </thead>\n",
       "  <tbody>\n",
       "    <tr>\n",
       "      <th>count</th>\n",
       "      <td>3.947200e+04</td>\n",
       "      <td>39472</td>\n",
       "      <td>39371</td>\n",
       "      <td>39472</td>\n",
       "      <td>39472</td>\n",
       "      <td>39472</td>\n",
       "      <td>39472</td>\n",
       "      <td>39472</td>\n",
       "      <td>39472</td>\n",
       "      <td>36805</td>\n",
       "      <td>...</td>\n",
       "      <td>16810</td>\n",
       "      <td>8741</td>\n",
       "      <td>31909</td>\n",
       "      <td>12160</td>\n",
       "      <td>30657</td>\n",
       "      <td>1155</td>\n",
       "      <td>6</td>\n",
       "      <td>20918</td>\n",
       "      <td>10396</td>\n",
       "      <td>18078</td>\n",
       "    </tr>\n",
       "    <tr>\n",
       "      <th>unique</th>\n",
       "      <td>NaN</td>\n",
       "      <td>237</td>\n",
       "      <td>39370</td>\n",
       "      <td>1</td>\n",
       "      <td>1</td>\n",
       "      <td>1</td>\n",
       "      <td>1</td>\n",
       "      <td>1</td>\n",
       "      <td>1</td>\n",
       "      <td>161</td>\n",
       "      <td>...</td>\n",
       "      <td>954</td>\n",
       "      <td>1860</td>\n",
       "      <td>4</td>\n",
       "      <td>637</td>\n",
       "      <td>2572</td>\n",
       "      <td>10</td>\n",
       "      <td>1</td>\n",
       "      <td>16852</td>\n",
       "      <td>2</td>\n",
       "      <td>37</td>\n",
       "    </tr>\n",
       "    <tr>\n",
       "      <th>top</th>\n",
       "      <td>NaN</td>\n",
       "      <td>821cc27a-e3bb-4bc5-ac34-89ada245069d</td>\n",
       "      <td>1905111B-717E-461D-B54A-69FA3FD2683F/527</td>\n",
       "      <td>Plantae</td>\n",
       "      <td>Tracheophyta</td>\n",
       "      <td>Magnoliopsida</td>\n",
       "      <td>Asterales</td>\n",
       "      <td>Asteraceae</td>\n",
       "      <td>Espeletia</td>\n",
       "      <td>Espeletia grandiflora</td>\n",
       "      <td>...</td>\n",
       "      <td>Gil-Leguizamón, P.A.</td>\n",
       "      <td>2014-09-10T00:00:00</td>\n",
       "      <td>CC_BY_NC_4_0</td>\n",
       "      <td>Parques Nacionales Naturales de Colombia</td>\n",
       "      <td>Janis Morales</td>\n",
       "      <td>Isotype</td>\n",
       "      <td>native</td>\n",
       "      <td>2025-01-31T18:01:26.336Z</td>\n",
       "      <td>StillImage</td>\n",
       "      <td>OCCURRENCE_STATUS_INFERRED_FROM_INDIVIDUAL_COUNT</td>\n",
       "    </tr>\n",
       "    <tr>\n",
       "      <th>freq</th>\n",
       "      <td>NaN</td>\n",
       "      <td>6933</td>\n",
       "      <td>2</td>\n",
       "      <td>39472</td>\n",
       "      <td>39472</td>\n",
       "      <td>39472</td>\n",
       "      <td>39472</td>\n",
       "      <td>39472</td>\n",
       "      <td>39472</td>\n",
       "      <td>4406</td>\n",
       "      <td>...</td>\n",
       "      <td>2009</td>\n",
       "      <td>985</td>\n",
       "      <td>13402</td>\n",
       "      <td>3624</td>\n",
       "      <td>1344</td>\n",
       "      <td>748</td>\n",
       "      <td>6</td>\n",
       "      <td>17</td>\n",
       "      <td>10384</td>\n",
       "      <td>4691</td>\n",
       "    </tr>\n",
       "    <tr>\n",
       "      <th>mean</th>\n",
       "      <td>2.209069e+09</td>\n",
       "      <td>NaN</td>\n",
       "      <td>NaN</td>\n",
       "      <td>NaN</td>\n",
       "      <td>NaN</td>\n",
       "      <td>NaN</td>\n",
       "      <td>NaN</td>\n",
       "      <td>NaN</td>\n",
       "      <td>NaN</td>\n",
       "      <td>NaN</td>\n",
       "      <td>...</td>\n",
       "      <td>NaN</td>\n",
       "      <td>NaN</td>\n",
       "      <td>NaN</td>\n",
       "      <td>NaN</td>\n",
       "      <td>NaN</td>\n",
       "      <td>NaN</td>\n",
       "      <td>NaN</td>\n",
       "      <td>NaN</td>\n",
       "      <td>NaN</td>\n",
       "      <td>NaN</td>\n",
       "    </tr>\n",
       "    <tr>\n",
       "      <th>std</th>\n",
       "      <td>1.132859e+09</td>\n",
       "      <td>NaN</td>\n",
       "      <td>NaN</td>\n",
       "      <td>NaN</td>\n",
       "      <td>NaN</td>\n",
       "      <td>NaN</td>\n",
       "      <td>NaN</td>\n",
       "      <td>NaN</td>\n",
       "      <td>NaN</td>\n",
       "      <td>NaN</td>\n",
       "      <td>...</td>\n",
       "      <td>NaN</td>\n",
       "      <td>NaN</td>\n",
       "      <td>NaN</td>\n",
       "      <td>NaN</td>\n",
       "      <td>NaN</td>\n",
       "      <td>NaN</td>\n",
       "      <td>NaN</td>\n",
       "      <td>NaN</td>\n",
       "      <td>NaN</td>\n",
       "      <td>NaN</td>\n",
       "    </tr>\n",
       "    <tr>\n",
       "      <th>min</th>\n",
       "      <td>7.582490e+05</td>\n",
       "      <td>NaN</td>\n",
       "      <td>NaN</td>\n",
       "      <td>NaN</td>\n",
       "      <td>NaN</td>\n",
       "      <td>NaN</td>\n",
       "      <td>NaN</td>\n",
       "      <td>NaN</td>\n",
       "      <td>NaN</td>\n",
       "      <td>NaN</td>\n",
       "      <td>...</td>\n",
       "      <td>NaN</td>\n",
       "      <td>NaN</td>\n",
       "      <td>NaN</td>\n",
       "      <td>NaN</td>\n",
       "      <td>NaN</td>\n",
       "      <td>NaN</td>\n",
       "      <td>NaN</td>\n",
       "      <td>NaN</td>\n",
       "      <td>NaN</td>\n",
       "      <td>NaN</td>\n",
       "    </tr>\n",
       "    <tr>\n",
       "      <th>25%</th>\n",
       "      <td>1.318237e+09</td>\n",
       "      <td>NaN</td>\n",
       "      <td>NaN</td>\n",
       "      <td>NaN</td>\n",
       "      <td>NaN</td>\n",
       "      <td>NaN</td>\n",
       "      <td>NaN</td>\n",
       "      <td>NaN</td>\n",
       "      <td>NaN</td>\n",
       "      <td>NaN</td>\n",
       "      <td>...</td>\n",
       "      <td>NaN</td>\n",
       "      <td>NaN</td>\n",
       "      <td>NaN</td>\n",
       "      <td>NaN</td>\n",
       "      <td>NaN</td>\n",
       "      <td>NaN</td>\n",
       "      <td>NaN</td>\n",
       "      <td>NaN</td>\n",
       "      <td>NaN</td>\n",
       "      <td>NaN</td>\n",
       "    </tr>\n",
       "    <tr>\n",
       "      <th>50%</th>\n",
       "      <td>1.836149e+09</td>\n",
       "      <td>NaN</td>\n",
       "      <td>NaN</td>\n",
       "      <td>NaN</td>\n",
       "      <td>NaN</td>\n",
       "      <td>NaN</td>\n",
       "      <td>NaN</td>\n",
       "      <td>NaN</td>\n",
       "      <td>NaN</td>\n",
       "      <td>NaN</td>\n",
       "      <td>...</td>\n",
       "      <td>NaN</td>\n",
       "      <td>NaN</td>\n",
       "      <td>NaN</td>\n",
       "      <td>NaN</td>\n",
       "      <td>NaN</td>\n",
       "      <td>NaN</td>\n",
       "      <td>NaN</td>\n",
       "      <td>NaN</td>\n",
       "      <td>NaN</td>\n",
       "      <td>NaN</td>\n",
       "    </tr>\n",
       "    <tr>\n",
       "      <th>75%</th>\n",
       "      <td>3.090529e+09</td>\n",
       "      <td>NaN</td>\n",
       "      <td>NaN</td>\n",
       "      <td>NaN</td>\n",
       "      <td>NaN</td>\n",
       "      <td>NaN</td>\n",
       "      <td>NaN</td>\n",
       "      <td>NaN</td>\n",
       "      <td>NaN</td>\n",
       "      <td>NaN</td>\n",
       "      <td>...</td>\n",
       "      <td>NaN</td>\n",
       "      <td>NaN</td>\n",
       "      <td>NaN</td>\n",
       "      <td>NaN</td>\n",
       "      <td>NaN</td>\n",
       "      <td>NaN</td>\n",
       "      <td>NaN</td>\n",
       "      <td>NaN</td>\n",
       "      <td>NaN</td>\n",
       "      <td>NaN</td>\n",
       "    </tr>\n",
       "    <tr>\n",
       "      <th>max</th>\n",
       "      <td>5.154564e+09</td>\n",
       "      <td>NaN</td>\n",
       "      <td>NaN</td>\n",
       "      <td>NaN</td>\n",
       "      <td>NaN</td>\n",
       "      <td>NaN</td>\n",
       "      <td>NaN</td>\n",
       "      <td>NaN</td>\n",
       "      <td>NaN</td>\n",
       "      <td>NaN</td>\n",
       "      <td>...</td>\n",
       "      <td>NaN</td>\n",
       "      <td>NaN</td>\n",
       "      <td>NaN</td>\n",
       "      <td>NaN</td>\n",
       "      <td>NaN</td>\n",
       "      <td>NaN</td>\n",
       "      <td>NaN</td>\n",
       "      <td>NaN</td>\n",
       "      <td>NaN</td>\n",
       "      <td>NaN</td>\n",
       "    </tr>\n",
       "  </tbody>\n",
       "</table>\n",
       "<p>11 rows × 50 columns</p>\n",
       "</div>"
      ],
      "text/plain": [
       "              gbifID                            datasetKey  \\\n",
       "count   3.947200e+04                                 39472   \n",
       "unique           NaN                                   237   \n",
       "top              NaN  821cc27a-e3bb-4bc5-ac34-89ada245069d   \n",
       "freq             NaN                                  6933   \n",
       "mean    2.209069e+09                                   NaN   \n",
       "std     1.132859e+09                                   NaN   \n",
       "min     7.582490e+05                                   NaN   \n",
       "25%     1.318237e+09                                   NaN   \n",
       "50%     1.836149e+09                                   NaN   \n",
       "75%     3.090529e+09                                   NaN   \n",
       "max     5.154564e+09                                   NaN   \n",
       "\n",
       "                                    occurrenceID  kingdom        phylum  \\\n",
       "count                                      39371    39472         39472   \n",
       "unique                                     39370        1             1   \n",
       "top     1905111B-717E-461D-B54A-69FA3FD2683F/527  Plantae  Tracheophyta   \n",
       "freq                                           2    39472         39472   \n",
       "mean                                         NaN      NaN           NaN   \n",
       "std                                          NaN      NaN           NaN   \n",
       "min                                          NaN      NaN           NaN   \n",
       "25%                                          NaN      NaN           NaN   \n",
       "50%                                          NaN      NaN           NaN   \n",
       "75%                                          NaN      NaN           NaN   \n",
       "max                                          NaN      NaN           NaN   \n",
       "\n",
       "                class      order      family      genus  \\\n",
       "count           39472      39472       39472      39472   \n",
       "unique              1          1           1          1   \n",
       "top     Magnoliopsida  Asterales  Asteraceae  Espeletia   \n",
       "freq            39472      39472       39472      39472   \n",
       "mean              NaN        NaN         NaN        NaN   \n",
       "std               NaN        NaN         NaN        NaN   \n",
       "min               NaN        NaN         NaN        NaN   \n",
       "25%               NaN        NaN         NaN        NaN   \n",
       "50%               NaN        NaN         NaN        NaN   \n",
       "75%               NaN        NaN         NaN        NaN   \n",
       "max               NaN        NaN         NaN        NaN   \n",
       "\n",
       "                      species  ...          identifiedBy       dateIdentified  \\\n",
       "count                   36805  ...                 16810                 8741   \n",
       "unique                    161  ...                   954                 1860   \n",
       "top     Espeletia grandiflora  ...  Gil-Leguizamón, P.A.  2014-09-10T00:00:00   \n",
       "freq                     4406  ...                  2009                  985   \n",
       "mean                      NaN  ...                   NaN                  NaN   \n",
       "std                       NaN  ...                   NaN                  NaN   \n",
       "min                       NaN  ...                   NaN                  NaN   \n",
       "25%                       NaN  ...                   NaN                  NaN   \n",
       "50%                       NaN  ...                   NaN                  NaN   \n",
       "75%                       NaN  ...                   NaN                  NaN   \n",
       "max                       NaN  ...                   NaN                  NaN   \n",
       "\n",
       "             license                              rightsHolder     recordedBy  \\\n",
       "count          31909                                     12160          30657   \n",
       "unique             4                                       637           2572   \n",
       "top     CC_BY_NC_4_0  Parques Nacionales Naturales de Colombia  Janis Morales   \n",
       "freq           13402                                      3624           1344   \n",
       "mean             NaN                                       NaN            NaN   \n",
       "std              NaN                                       NaN            NaN   \n",
       "min              NaN                                       NaN            NaN   \n",
       "25%              NaN                                       NaN            NaN   \n",
       "50%              NaN                                       NaN            NaN   \n",
       "75%              NaN                                       NaN            NaN   \n",
       "max              NaN                                       NaN            NaN   \n",
       "\n",
       "       typeStatus establishmentMeans           lastInterpreted   mediaType  \\\n",
       "count        1155                  6                     20918       10396   \n",
       "unique         10                  1                     16852           2   \n",
       "top       Isotype             native  2025-01-31T18:01:26.336Z  StillImage   \n",
       "freq          748                  6                        17       10384   \n",
       "mean          NaN                NaN                       NaN         NaN   \n",
       "std           NaN                NaN                       NaN         NaN   \n",
       "min           NaN                NaN                       NaN         NaN   \n",
       "25%           NaN                NaN                       NaN         NaN   \n",
       "50%           NaN                NaN                       NaN         NaN   \n",
       "75%           NaN                NaN                       NaN         NaN   \n",
       "max           NaN                NaN                       NaN         NaN   \n",
       "\n",
       "                                                   issue  \n",
       "count                                              18078  \n",
       "unique                                                37  \n",
       "top     OCCURRENCE_STATUS_INFERRED_FROM_INDIVIDUAL_COUNT  \n",
       "freq                                                4691  \n",
       "mean                                                 NaN  \n",
       "std                                                  NaN  \n",
       "min                                                  NaN  \n",
       "25%                                                  NaN  \n",
       "50%                                                  NaN  \n",
       "75%                                                  NaN  \n",
       "max                                                  NaN  \n",
       "\n",
       "[11 rows x 50 columns]"
      ]
     },
     "execution_count": 3,
     "metadata": {},
     "output_type": "execute_result"
    }
   ],
   "source": [
    "df.describe(include='all')  # Revisa estadísticos de las columnas"
   ]
  },
  {
   "cell_type": "markdown",
   "id": "98efb1f8",
   "metadata": {},
   "source": [
    "Como hay tantas columnas, algunas de ellas son inecesarias. Se procede a dejar solo las columnas importantes para el análisis."
   ]
  },
  {
   "cell_type": "code",
   "execution_count": 4,
   "id": "627c1eb6",
   "metadata": {},
   "outputs": [
    {
     "data": {
      "text/plain": [
       "Index(['gbifID', 'datasetKey', 'occurrenceID', 'kingdom', 'phylum', 'class',\n",
       "       'order', 'family', 'genus', 'species', 'infraspecificEpithet',\n",
       "       'taxonRank', 'scientificName', 'verbatimScientificName',\n",
       "       'verbatimScientificNameAuthorship', 'countryCode', 'locality',\n",
       "       'stateProvince', 'occurrenceStatus', 'individualCount',\n",
       "       'publishingOrgKey', 'decimalLatitude', 'decimalLongitude',\n",
       "       'coordinateUncertaintyInMeters', 'coordinatePrecision', 'elevation',\n",
       "       'elevationAccuracy', 'depth', 'depthAccuracy', 'eventDate', 'day',\n",
       "       'month', 'year', 'taxonKey', 'speciesKey', 'basisOfRecord',\n",
       "       'institutionCode', 'collectionCode', 'catalogNumber', 'recordNumber',\n",
       "       'identifiedBy', 'dateIdentified', 'license', 'rightsHolder',\n",
       "       'recordedBy', 'typeStatus', 'establishmentMeans', 'lastInterpreted',\n",
       "       'mediaType', 'issue'],\n",
       "      dtype='object')"
      ]
     },
     "execution_count": 4,
     "metadata": {},
     "output_type": "execute_result"
    }
   ],
   "source": [
    "df.columns"
   ]
  },
  {
   "cell_type": "code",
   "execution_count": 5,
   "id": "485608e5",
   "metadata": {},
   "outputs": [],
   "source": [
    "columnas_importantes = ['decimalLongitude', 'decimalLatitude', 'genus', 'species', 'year', 'month', 'day', \n",
    "                        'eventDate', 'countryCode', 'stateProvince', 'locality', 'elevation']\n",
    "df = df[columnas_importantes]  # Filtra el DataFrame para conservar solo las columnas importantes"
   ]
  },
  {
   "cell_type": "code",
   "execution_count": 6,
   "id": "c6a0e62b",
   "metadata": {},
   "outputs": [
    {
     "name": "stdout",
     "output_type": "stream",
     "text": [
      "decimalLongitude    15389\n",
      "decimalLatitude     15389\n",
      "genus                   0\n",
      "species              2667\n",
      "year                 5472\n",
      "month                6015\n",
      "day                  8959\n",
      "eventDate            5408\n",
      "countryCode          1459\n",
      "stateProvince        8192\n",
      "locality             4243\n",
      "elevation           14136\n",
      "dtype: int64\n"
     ]
    },
    {
     "data": {
      "text/plain": [
       "(39472, 12)"
      ]
     },
     "execution_count": 6,
     "metadata": {},
     "output_type": "execute_result"
    }
   ],
   "source": [
    "print(df.isna().sum())  # Revisa los nulos en el DataFrame\n",
    "df.shape"
   ]
  },
  {
   "cell_type": "code",
   "execution_count": 7,
   "id": "5bd470d3",
   "metadata": {},
   "outputs": [
    {
     "name": "stdout",
     "output_type": "stream",
     "text": [
      "Encontramos 15389 entradas sin coordenadas en el DataFrame, las cuales se eliminarán\n"
     ]
    }
   ],
   "source": [
    "print(f\"Encontramos {df['decimalLongitude'].isna().sum()} entradas sin coordenadas en el DataFrame, las cuales se eliminarán\")"
   ]
  },
  {
   "cell_type": "code",
   "execution_count": 8,
   "id": "c87d1610",
   "metadata": {},
   "outputs": [
    {
     "name": "stdout",
     "output_type": "stream",
     "text": [
      "(24083, 12)\n",
      "Conservamos 24083 entradas con coordenadas en el DataFrame\n"
     ]
    },
    {
     "data": {
      "application/vnd.microsoft.datawrangler.viewer.v0+json": {
       "columns": [
        {
         "name": "index",
         "rawType": "object",
         "type": "string"
        },
        {
         "name": "0",
         "rawType": "int64",
         "type": "integer"
        }
       ],
       "ref": "7ba36176-c9e1-4698-8098-cd5e15c939e2",
       "rows": [
        [
         "decimalLongitude",
         "0"
        ],
        [
         "decimalLatitude",
         "0"
        ],
        [
         "genus",
         "0"
        ],
        [
         "species",
         "1244"
        ],
        [
         "year",
         "312"
        ],
        [
         "month",
         "372"
        ],
        [
         "day",
         "2922"
        ],
        [
         "eventDate",
         "268"
        ],
        [
         "countryCode",
         "0"
        ],
        [
         "stateProvince",
         "1074"
        ],
        [
         "locality",
         "2145"
        ],
        [
         "elevation",
         "7261"
        ]
       ],
       "shape": {
        "columns": 1,
        "rows": 12
       }
      },
      "text/plain": [
       "decimalLongitude       0\n",
       "decimalLatitude        0\n",
       "genus                  0\n",
       "species             1244\n",
       "year                 312\n",
       "month                372\n",
       "day                 2922\n",
       "eventDate            268\n",
       "countryCode            0\n",
       "stateProvince       1074\n",
       "locality            2145\n",
       "elevation           7261\n",
       "dtype: int64"
      ]
     },
     "execution_count": 8,
     "metadata": {},
     "output_type": "execute_result"
    }
   ],
   "source": [
    "df_na_coor = df.dropna(subset=['decimalLatitude', 'decimalLongitude'])\n",
    "print(df_na_coor.shape)\n",
    "print(f\"Conservamos {df_na_coor.shape[0]} entradas con coordenadas en el DataFrame\")\n",
    "df_na_coor.isna().sum()  # Revisa los nulos en el DataFrame\n"
   ]
  },
  {
   "cell_type": "markdown",
   "id": "d67bbe70",
   "metadata": {},
   "source": [
    "Ahora supongamos que queremos eliminar cualquier entrada que en una de sus celdas contenga NAs"
   ]
  },
  {
   "cell_type": "code",
   "execution_count": 9,
   "id": "54697ffd",
   "metadata": {},
   "outputs": [
    {
     "name": "stdout",
     "output_type": "stream",
     "text": [
      "(12610, 12)\n",
      "decimalLongitude    0\n",
      "decimalLatitude     0\n",
      "genus               0\n",
      "species             0\n",
      "year                0\n",
      "month               0\n",
      "day                 0\n",
      "eventDate           0\n",
      "countryCode         0\n",
      "stateProvince       0\n",
      "locality            0\n",
      "elevation           0\n",
      "dtype: int64\n",
      "Identificamos 12610 entradas sin ningun NA en el DataFrame\n"
     ]
    }
   ],
   "source": [
    "df_na = df.dropna()  # Elimina todas las filas con valores nulos\n",
    "print(df_na.shape)\n",
    "print(df_na.isna().sum() ) # Revisa nuevamente los nulos en el DataFrame\n",
    "print(f\"Identificamos {df_na.shape[0]} entradas sin ningun NA en el DataFrame\")"
   ]
  },
  {
   "cell_type": "markdown",
   "id": "664cbf0f",
   "metadata": {},
   "source": [
    "Vemos que al excluir todos los NAs la base de datos se reduce mucho. Además, hay valores faltantes en columnas que no son tan relevantes para el análisis, como la fecha de colecta. Por eso, se decide solo excluir los valores faltantes de los campos de coordenadas. "
   ]
  },
  {
   "cell_type": "code",
   "execution_count": 10,
   "id": "ffb2d53f",
   "metadata": {},
   "outputs": [
    {
     "name": "stdout",
     "output_type": "stream",
     "text": [
      "<class 'pandas.core.frame.DataFrame'>\n",
      "Index: 24083 entries, 0 to 39470\n",
      "Data columns (total 12 columns):\n",
      " #   Column            Non-Null Count  Dtype  \n",
      "---  ------            --------------  -----  \n",
      " 0   decimalLongitude  24083 non-null  float64\n",
      " 1   decimalLatitude   24083 non-null  float64\n",
      " 2   genus             24083 non-null  object \n",
      " 3   species           22839 non-null  object \n",
      " 4   year              23771 non-null  float64\n",
      " 5   month             23711 non-null  float64\n",
      " 6   day               21161 non-null  float64\n",
      " 7   eventDate         23815 non-null  object \n",
      " 8   countryCode       24083 non-null  object \n",
      " 9   stateProvince     23009 non-null  object \n",
      " 10  locality          21938 non-null  object \n",
      " 11  elevation         16822 non-null  float64\n",
      "dtypes: float64(6), object(6)\n",
      "memory usage: 2.4+ MB\n"
     ]
    }
   ],
   "source": [
    "df_na_coor.info()"
   ]
  },
  {
   "cell_type": "markdown",
   "id": "2e456fe2",
   "metadata": {},
   "source": [
    "## Visualización de los datos  \n",
    "### Análisis de patrón de puntos"
   ]
  },
  {
   "cell_type": "code",
   "execution_count": 11,
   "id": "8ce431f0",
   "metadata": {},
   "outputs": [
    {
     "data": {
      "image/png": "[encoded data removed]",
      "text/plain": [
       "<Figure size 600x600 with 3 Axes>"
      ]
     },
     "metadata": {},
     "output_type": "display_data"
    }
   ],
   "source": [
    "# Generate scatter plot\n",
    "import seaborn as sbn\n",
    "sbn.jointplot(x='decimalLongitude', y='decimalLatitude', data=df_na_coor, s=5.0);"
   ]
  },
  {
   "cell_type": "markdown",
   "id": "1ea9cddd",
   "metadata": {},
   "source": [
    "Sin embargo, identificamos que hay unos valores muy por fuera de la línea de punto. Seguramente corresponden a errores de codificación de las coordenadas. "
   ]
  },
  {
   "cell_type": "code",
   "execution_count": 12,
   "id": "867c3bde",
   "metadata": {},
   "outputs": [
    {
     "data": {
      "application/vnd.microsoft.datawrangler.viewer.v0+json": {
       "columns": [
        {
         "name": "index",
         "rawType": "object",
         "type": "string"
        },
        {
         "name": "decimalLongitude",
         "rawType": "float64",
         "type": "float"
        },
        {
         "name": "decimalLatitude",
         "rawType": "float64",
         "type": "float"
        },
        {
         "name": "genus",
         "rawType": "object",
         "type": "unknown"
        },
        {
         "name": "species",
         "rawType": "object",
         "type": "unknown"
        },
        {
         "name": "year",
         "rawType": "float64",
         "type": "float"
        },
        {
         "name": "month",
         "rawType": "float64",
         "type": "float"
        },
        {
         "name": "day",
         "rawType": "float64",
         "type": "float"
        },
        {
         "name": "eventDate",
         "rawType": "object",
         "type": "unknown"
        },
        {
         "name": "countryCode",
         "rawType": "object",
         "type": "unknown"
        },
        {
         "name": "stateProvince",
         "rawType": "object",
         "type": "unknown"
        },
        {
         "name": "locality",
         "rawType": "object",
         "type": "unknown"
        },
        {
         "name": "elevation",
         "rawType": "float64",
         "type": "float"
        }
       ],
       "ref": "1e154160-8d69-45cd-8dc1-02d4fa5a76fa",
       "rows": [
        [
         "count",
         "24083.0",
         "24083.0",
         "24083",
         "22839",
         "23771.0",
         "23711.0",
         "21161.0",
         "23815",
         "24083",
         "23009",
         "21938",
         "16822.0"
        ],
        [
         "unique",
         null,
         null,
         "1",
         "148",
         null,
         null,
         null,
         "3598",
         "3",
         "59",
         "3017",
         null
        ],
        [
         "top",
         null,
         null,
         "Espeletia",
         "Espeletia grandiflora",
         null,
         null,
         null,
         "18/03/2014",
         "CO",
         "Cundinamarca",
         "Parque Nacional Natural del Cocuy",
         null
        ],
        [
         "freq",
         null,
         null,
         "24083",
         "3205",
         null,
         null,
         null,
         "541",
         "21284",
         "6019",
         "3195",
         null
        ],
        [
         "mean",
         "-73.88256076213926",
         "5.19415304756052",
         null,
         null,
         "2005.90496823861",
         "6.119649108008941",
         "16.20906384386371",
         null,
         null,
         null,
         null,
         "3406.3341026631792"
        ],
        [
         "std",
         "2.6920868931194675",
         "2.1076528407100854",
         null,
         null,
         "19.418600613308268",
         "3.2027215564615474",
         "8.826379041950913",
         null,
         null,
         null,
         null,
         "336.1927843478123"
        ],
        [
         "min",
         "-78.916667",
         "-2.81666",
         null,
         null,
         "1760.0",
         "1.0",
         "1.0",
         null,
         null,
         null,
         null,
         "0.0"
        ],
        [
         "25%",
         "-75.27697850000001",
         "4.5284",
         null,
         null,
         "2007.0",
         "3.0",
         "8.0",
         null,
         null,
         null,
         null,
         "3260.0"
        ],
        [
         "50%",
         "-73.81461",
         "5.411056",
         null,
         null,
         "2014.0",
         "6.0",
         "17.0",
         null,
         null,
         null,
         null,
         "3430.0"
        ],
        [
         "75%",
         "-72.590306",
         "6.347861",
         null,
         null,
         "2016.0",
         "9.0",
         "23.0",
         null,
         null,
         null,
         null,
         "3580.0"
        ],
        [
         "max",
         "37.30972",
         "80.353",
         null,
         null,
         "2025.0",
         "12.0",
         "31.0",
         null,
         null,
         null,
         null,
         "5277.0"
        ]
       ],
       "shape": {
        "columns": 12,
        "rows": 11
       }
      },
      "text/html": [
       "<div>\n",
       "<style scoped>\n",
       "    .dataframe tbody tr th:only-of-type {\n",
       "        vertical-align: middle;\n",
       "    }\n",
       "\n",
       "    .dataframe tbody tr th {\n",
       "        vertical-align: top;\n",
       "    }\n",
       "\n",
       "    .dataframe thead th {\n",
       "        text-align: right;\n",
       "    }\n",
       "</style>\n",
       "<table border=\"1\" class=\"dataframe\">\n",
       "  <thead>\n",
       "    <tr style=\"text-align: right;\">\n",
       "      <th></th>\n",
       "      <th>decimalLongitude</th>\n",
       "      <th>decimalLatitude</th>\n",
       "      <th>genus</th>\n",
       "      <th>species</th>\n",
       "      <th>year</th>\n",
       "      <th>month</th>\n",
       "      <th>day</th>\n",
       "      <th>eventDate</th>\n",
       "      <th>countryCode</th>\n",
       "      <th>stateProvince</th>\n",
       "      <th>locality</th>\n",
       "      <th>elevation</th>\n",
       "    </tr>\n",
       "  </thead>\n",
       "  <tbody>\n",
       "    <tr>\n",
       "      <th>count</th>\n",
       "      <td>24083.000000</td>\n",
       "      <td>24083.000000</td>\n",
       "      <td>24083</td>\n",
       "      <td>22839</td>\n",
       "      <td>23771.000000</td>\n",
       "      <td>23711.000000</td>\n",
       "      <td>21161.000000</td>\n",
       "      <td>23815</td>\n",
       "      <td>24083</td>\n",
       "      <td>23009</td>\n",
       "      <td>21938</td>\n",
       "      <td>16822.000000</td>\n",
       "    </tr>\n",
       "    <tr>\n",
       "      <th>unique</th>\n",
       "      <td>NaN</td>\n",
       "      <td>NaN</td>\n",
       "      <td>1</td>\n",
       "      <td>148</td>\n",
       "      <td>NaN</td>\n",
       "      <td>NaN</td>\n",
       "      <td>NaN</td>\n",
       "      <td>3598</td>\n",
       "      <td>3</td>\n",
       "      <td>59</td>\n",
       "      <td>3017</td>\n",
       "      <td>NaN</td>\n",
       "    </tr>\n",
       "    <tr>\n",
       "      <th>top</th>\n",
       "      <td>NaN</td>\n",
       "      <td>NaN</td>\n",
       "      <td>Espeletia</td>\n",
       "      <td>Espeletia grandiflora</td>\n",
       "      <td>NaN</td>\n",
       "      <td>NaN</td>\n",
       "      <td>NaN</td>\n",
       "      <td>18/03/2014</td>\n",
       "      <td>CO</td>\n",
       "      <td>Cundinamarca</td>\n",
       "      <td>Parque Nacional Natural del Cocuy</td>\n",
       "      <td>NaN</td>\n",
       "    </tr>\n",
       "    <tr>\n",
       "      <th>freq</th>\n",
       "      <td>NaN</td>\n",
       "      <td>NaN</td>\n",
       "      <td>24083</td>\n",
       "      <td>3205</td>\n",
       "      <td>NaN</td>\n",
       "      <td>NaN</td>\n",
       "      <td>NaN</td>\n",
       "      <td>541</td>\n",
       "      <td>21284</td>\n",
       "      <td>6019</td>\n",
       "      <td>3195</td>\n",
       "      <td>NaN</td>\n",
       "    </tr>\n",
       "    <tr>\n",
       "      <th>mean</th>\n",
       "      <td>-73.882561</td>\n",
       "      <td>5.194153</td>\n",
       "      <td>NaN</td>\n",
       "      <td>NaN</td>\n",
       "      <td>2005.904968</td>\n",
       "      <td>6.119649</td>\n",
       "      <td>16.209064</td>\n",
       "      <td>NaN</td>\n",
       "      <td>NaN</td>\n",
       "      <td>NaN</td>\n",
       "      <td>NaN</td>\n",
       "      <td>3406.334103</td>\n",
       "    </tr>\n",
       "    <tr>\n",
       "      <th>std</th>\n",
       "      <td>2.692087</td>\n",
       "      <td>2.107653</td>\n",
       "      <td>NaN</td>\n",
       "      <td>NaN</td>\n",
       "      <td>19.418601</td>\n",
       "      <td>3.202722</td>\n",
       "      <td>8.826379</td>\n",
       "      <td>NaN</td>\n",
       "      <td>NaN</td>\n",
       "      <td>NaN</td>\n",
       "      <td>NaN</td>\n",
       "      <td>336.192784</td>\n",
       "    </tr>\n",
       "    <tr>\n",
       "      <th>min</th>\n",
       "      <td>-78.916667</td>\n",
       "      <td>-2.816660</td>\n",
       "      <td>NaN</td>\n",
       "      <td>NaN</td>\n",
       "      <td>1760.000000</td>\n",
       "      <td>1.000000</td>\n",
       "      <td>1.000000</td>\n",
       "      <td>NaN</td>\n",
       "      <td>NaN</td>\n",
       "      <td>NaN</td>\n",
       "      <td>NaN</td>\n",
       "      <td>0.000000</td>\n",
       "    </tr>\n",
       "    <tr>\n",
       "      <th>25%</th>\n",
       "      <td>-75.276979</td>\n",
       "      <td>4.528400</td>\n",
       "      <td>NaN</td>\n",
       "      <td>NaN</td>\n",
       "      <td>2007.000000</td>\n",
       "      <td>3.000000</td>\n",
       "      <td>8.000000</td>\n",
       "      <td>NaN</td>\n",
       "      <td>NaN</td>\n",
       "      <td>NaN</td>\n",
       "      <td>NaN</td>\n",
       "      <td>3260.000000</td>\n",
       "    </tr>\n",
       "    <tr>\n",
       "      <th>50%</th>\n",
       "      <td>-73.814610</td>\n",
       "      <td>5.411056</td>\n",
       "      <td>NaN</td>\n",
       "      <td>NaN</td>\n",
       "      <td>2014.000000</td>\n",
       "      <td>6.000000</td>\n",
       "      <td>17.000000</td>\n",
       "      <td>NaN</td>\n",
       "      <td>NaN</td>\n",
       "      <td>NaN</td>\n",
       "      <td>NaN</td>\n",
       "      <td>3430.000000</td>\n",
       "    </tr>\n",
       "    <tr>\n",
       "      <th>75%</th>\n",
       "      <td>-72.590306</td>\n",
       "      <td>6.347861</td>\n",
       "      <td>NaN</td>\n",
       "      <td>NaN</td>\n",
       "      <td>2016.000000</td>\n",
       "      <td>9.000000</td>\n",
       "      <td>23.000000</td>\n",
       "      <td>NaN</td>\n",
       "      <td>NaN</td>\n",
       "      <td>NaN</td>\n",
       "      <td>NaN</td>\n",
       "      <td>3580.000000</td>\n",
       "    </tr>\n",
       "    <tr>\n",
       "      <th>max</th>\n",
       "      <td>37.309720</td>\n",
       "      <td>80.353000</td>\n",
       "      <td>NaN</td>\n",
       "      <td>NaN</td>\n",
       "      <td>2025.000000</td>\n",
       "      <td>12.000000</td>\n",
       "      <td>31.000000</td>\n",
       "      <td>NaN</td>\n",
       "      <td>NaN</td>\n",
       "      <td>NaN</td>\n",
       "      <td>NaN</td>\n",
       "      <td>5277.000000</td>\n",
       "    </tr>\n",
       "  </tbody>\n",
       "</table>\n",
       "</div>"
      ],
      "text/plain": [
       "        decimalLongitude  decimalLatitude      genus                species  \\\n",
       "count       24083.000000     24083.000000      24083                  22839   \n",
       "unique               NaN              NaN          1                    148   \n",
       "top                  NaN              NaN  Espeletia  Espeletia grandiflora   \n",
       "freq                 NaN              NaN      24083                   3205   \n",
       "mean          -73.882561         5.194153        NaN                    NaN   \n",
       "std             2.692087         2.107653        NaN                    NaN   \n",
       "min           -78.916667        -2.816660        NaN                    NaN   \n",
       "25%           -75.276979         4.528400        NaN                    NaN   \n",
       "50%           -73.814610         5.411056        NaN                    NaN   \n",
       "75%           -72.590306         6.347861        NaN                    NaN   \n",
       "max            37.309720        80.353000        NaN                    NaN   \n",
       "\n",
       "                year         month           day   eventDate countryCode  \\\n",
       "count   23771.000000  23711.000000  21161.000000       23815       24083   \n",
       "unique           NaN           NaN           NaN        3598           3   \n",
       "top              NaN           NaN           NaN  18/03/2014          CO   \n",
       "freq             NaN           NaN           NaN         541       21284   \n",
       "mean     2005.904968      6.119649     16.209064         NaN         NaN   \n",
       "std        19.418601      3.202722      8.826379         NaN         NaN   \n",
       "min      1760.000000      1.000000      1.000000         NaN         NaN   \n",
       "25%      2007.000000      3.000000      8.000000         NaN         NaN   \n",
       "50%      2014.000000      6.000000     17.000000         NaN         NaN   \n",
       "75%      2016.000000      9.000000     23.000000         NaN         NaN   \n",
       "max      2025.000000     12.000000     31.000000         NaN         NaN   \n",
       "\n",
       "       stateProvince                           locality     elevation  \n",
       "count          23009                              21938  16822.000000  \n",
       "unique            59                               3017           NaN  \n",
       "top     Cundinamarca  Parque Nacional Natural del Cocuy           NaN  \n",
       "freq            6019                               3195           NaN  \n",
       "mean             NaN                                NaN   3406.334103  \n",
       "std              NaN                                NaN    336.192784  \n",
       "min              NaN                                NaN      0.000000  \n",
       "25%              NaN                                NaN   3260.000000  \n",
       "50%              NaN                                NaN   3430.000000  \n",
       "75%              NaN                                NaN   3580.000000  \n",
       "max              NaN                                NaN   5277.000000  "
      ]
     },
     "execution_count": 12,
     "metadata": {},
     "output_type": "execute_result"
    }
   ],
   "source": [
    "df_na_coor.describe(include='all')  # Revisa estadísticos de las columnas"
   ]
  },
  {
   "cell_type": "code",
   "execution_count": 13,
   "id": "166d14e2",
   "metadata": {},
   "outputs": [
    {
     "name": "stdout",
     "output_type": "stream",
     "text": [
      "       decimalLongitude  decimalLatitude\n",
      "count      24083.000000     24083.000000\n",
      "mean         -73.882561         5.194153\n",
      "std            2.692087         2.107653\n",
      "min          -78.916667        -2.816660\n",
      "25%          -75.276979         4.528400\n",
      "50%          -73.814610         5.411056\n",
      "75%          -72.590306         6.347861\n",
      "max           37.309720        80.353000\n"
     ]
    }
   ],
   "source": [
    "print(df_na_coor[['decimalLongitude', 'decimalLatitude']].describe())"
   ]
  },
  {
   "cell_type": "markdown",
   "id": "63a5dd0b",
   "metadata": {},
   "source": [
    "Notamos dos cosas: Hay valores de longitud mayores que cero, lo cual no tiene sentido con la ubicación geográfica de los páramos; El valor maximo de latitud está volado, seguramente fue un error de digitalización. "
   ]
  },
  {
   "cell_type": "code",
   "execution_count": 14,
   "id": "b42f25fd",
   "metadata": {},
   "outputs": [
    {
     "name": "stdout",
     "output_type": "stream",
     "text": [
      "decimalLongitude                                           -71.431617\n",
      "decimalLatitude                                                80.353\n",
      "genus                                                       Espeletia\n",
      "species                                                           NaN\n",
      "year                                                           2007.0\n",
      "month                                                             1.0\n",
      "day                                                              26.0\n",
      "eventDate                                                  26/01/2007\n",
      "countryCode                                                        VE\n",
      "stateProvince                                                  Mérida\n",
      "locality            ESTADO MÉRIDA. Municipio Sucre. | Páramo de Ch...\n",
      "elevation                                                      2740.0\n",
      "Name: 2742, dtype: object\n",
      "ESTADO MÉRIDA. Municipio Sucre. | Páramo de Chacantá-Quirorá, arriba de Pueblo Nuevo del Sur.\n"
     ]
    }
   ],
   "source": [
    "# Encontrar el índice de la fila con el valor más alto en 'decimalLatitude'\n",
    "indice_max_lat = df_na_coor['decimalLatitude'].idxmax()\n",
    "\n",
    "# Mostrar la fila correspondiente\n",
    "fila_max_lat = df_na_coor.loc[indice_max_lat]\n",
    "print(fila_max_lat)\n",
    "print(fila_max_lat.locality)"
   ]
  },
  {
   "cell_type": "code",
   "execution_count": 15,
   "id": "93e71cbf",
   "metadata": {},
   "outputs": [
    {
     "data": {
      "text/plain": [
       "np.float64(8.0353)"
      ]
     },
     "execution_count": 15,
     "metadata": {},
     "output_type": "execute_result"
    }
   ],
   "source": [
    "# Sustituir el valor de 'decimalLatitude' en la fila 2742\n",
    "df_na_coor.at[2742, 'decimalLatitude'] = 8.0353\n",
    "df_na_coor.at[2742, 'decimalLatitude']"
   ]
  },
  {
   "cell_type": "code",
   "execution_count": 16,
   "id": "2f80474b",
   "metadata": {},
   "outputs": [
    {
     "data": {
      "text/plain": [
       "np.int64(14)"
      ]
     },
     "execution_count": 16,
     "metadata": {},
     "output_type": "execute_result"
    }
   ],
   "source": [
    "# Encontrar las entradas con valores mayores a -60 de 'decimallongitude'\n",
    "(df_na_coor['decimalLongitude'] > -60).sum()"
   ]
  },
  {
   "cell_type": "code",
   "execution_count": 17,
   "id": "b3df7758",
   "metadata": {},
   "outputs": [
    {
     "data": {
      "application/vnd.microsoft.datawrangler.viewer.v0+json": {
       "columns": [
        {
         "name": "index",
         "rawType": "int64",
         "type": "integer"
        },
        {
         "name": "decimalLongitude",
         "rawType": "float64",
         "type": "float"
        },
        {
         "name": "decimalLatitude",
         "rawType": "float64",
         "type": "float"
        },
        {
         "name": "genus",
         "rawType": "object",
         "type": "string"
        },
        {
         "name": "species",
         "rawType": "object",
         "type": "unknown"
        },
        {
         "name": "year",
         "rawType": "float64",
         "type": "float"
        },
        {
         "name": "month",
         "rawType": "float64",
         "type": "float"
        },
        {
         "name": "day",
         "rawType": "float64",
         "type": "float"
        },
        {
         "name": "eventDate",
         "rawType": "object",
         "type": "unknown"
        },
        {
         "name": "countryCode",
         "rawType": "object",
         "type": "string"
        },
        {
         "name": "stateProvince",
         "rawType": "object",
         "type": "unknown"
        },
        {
         "name": "locality",
         "rawType": "object",
         "type": "string"
        },
        {
         "name": "elevation",
         "rawType": "float64",
         "type": "float"
        }
       ],
       "ref": "ee1f693f-122f-4afa-a9c8-048b514540af",
       "rows": [
        [
         "3051",
         "0.0",
         "0.0",
         "Espeletia",
         "Espeletia figueirasii",
         "1969.0",
         "10.0",
         "11.0",
         "11/10/1969",
         "VE",
         null,
         "Merida: Sierra Nevada de Santo Domingo, Paramo de los Granates: Loma de Paja, Las Escaleras",
         "3240.0"
        ],
        [
         "3054",
         "0.0",
         "0.0",
         "Espeletia",
         "Espeletia summapacis",
         "1975.0",
         "2.0",
         "7.0",
         "7/02/1975",
         "CO",
         "Cundinamarca",
         "Macizo de Sumapaz adelante de Andabobos, cerea al Pico de San Mateo",
         "3975.0"
        ],
        [
         "4457",
         "0.0",
         "0.0",
         "Espeletia",
         "Espeletia glandulosa",
         null,
         null,
         null,
         null,
         "CO",
         null,
         "\"Cordillera Oriental",
         "3200.0"
        ],
        [
         "4458",
         "0.0",
         "0.0",
         "Espeletia",
         "Espeletia curialensis",
         null,
         null,
         null,
         null,
         "CO",
         "Boyaca",
         "\"Paramo entre Chita y Secama, vertiente oriental de la cordillera",
         "3350.0"
        ],
        [
         "4460",
         "0.0",
         "0.0",
         "Espeletia",
         "Espeletia lopezii",
         "1973.0",
         "2.0",
         "25.0",
         "25/02/1973",
         "CO",
         "Boyacá",
         "Sierra Nevada del Cucuy, Páramo Concavo. Vallecito abrigado pantanosos entre morrenas peladas del superpáramo en el límite con el páramo propriamente dicho.",
         "4335.0"
        ],
        [
         "4461",
         "0.0",
         "0.0",
         "Espeletia",
         "Espeletia brachyaxiantha",
         null,
         null,
         null,
         null,
         "CO",
         "Boyacá",
         "\"Páramos al NW de Belén, vereda S. José de la Montaña, alto de las Cruces y alrededores. Páramo seco y herbaceo con poca poca influencia de ganadería y quema. Espice abundante con trencos de 6-8 m de altura en promedio en sitíos abrigados",
         "4.0"
        ],
        [
         "11937",
         "0.0",
         "0.0",
         "Espeletia",
         "Espeletia spectabilis",
         "1972.0",
         "11.0",
         "18.0",
         "18/11/1972",
         "VE",
         null,
         "Edo. Mérida. Párame de San José, el Zajón del Cupis",
         "1550.0"
        ],
        [
         "11939",
         "0.0",
         "0.0",
         "Espeletia",
         null,
         "1968.0",
         "7.0",
         "2.0",
         "2/07/1968",
         "CO",
         null,
         "Depto. Boyacá,",
         "0.0"
        ],
        [
         "15622",
         "0.0",
         "0.0",
         "Espeletia",
         "Espeletia pycnophylla",
         "1978.0",
         "8.0",
         "17.0",
         "17/08/1978",
         "EC",
         "Carchi",
         "Carretera el Playen - El Carmele - Panamericna Norte, Zona humeda, coleccioned en borde, cienega, bosque y campe abierte",
         null
        ],
        [
         "15623",
         "0.0",
         "0.0",
         "Espeletia",
         "Espeletia pycnophylla",
         "1978.0",
         "7.0",
         "6.0",
         "6/07/1978",
         "EC",
         "Carchi-Napo",
         "Via Julio Andrade-Playon de San Francisco (Sucumbios) colecciones en vera y borde del carretero, pajonal y chaparros",
         null
        ],
        [
         "15624",
         "0.0",
         "0.0",
         "Espeletia",
         "Espeletia grandiflora",
         "1968.0",
         "8.0",
         "13.0",
         "13/08/1968",
         "CO",
         "Cundinamarca",
         "Subparamo below Paramo de Chisaca, excessively wet, cloud vegetation",
         "3300.0"
        ],
        [
         "15625",
         "0.0",
         "0.0",
         "Espeletia",
         "Espeletia pycnophylla",
         "1979.0",
         "9.0",
         "22.0",
         "22/09/1979",
         "EC",
         "Carchi",
         "26 km west of Tulcan on road to Maldonado, pavamo de Childes on Colombia border",
         "3510.0"
        ],
        [
         "20024",
         "37.30972",
         "-0.38",
         "Espeletia",
         "Espeletia pycnophylla",
         "1997.0",
         "1.0",
         "30.0",
         "30/01/1997",
         "EC",
         null,
         "Ecuador: Carchi. NW Ecuador: Páramo El Ángel,ca 15 km NW of the city El Ángel. 30.01.1997, Leg.: M. Potthast 231.",
         null
        ],
        [
         "20025",
         "37.30972",
         "-0.38",
         "Espeletia",
         "Espeletia pycnophylla",
         "1997.0",
         "1.0",
         "30.0",
         "30/01/1997",
         "EC",
         null,
         "Ecuador: Carchi. NW Ecuador: Páramo El Ángel,ca 15 km NW of the city El Ángel. 30.01.1997, Leg.: M. Potthast 222.",
         null
        ]
       ],
       "shape": {
        "columns": 12,
        "rows": 14
       }
      },
      "text/html": [
       "<div>\n",
       "<style scoped>\n",
       "    .dataframe tbody tr th:only-of-type {\n",
       "        vertical-align: middle;\n",
       "    }\n",
       "\n",
       "    .dataframe tbody tr th {\n",
       "        vertical-align: top;\n",
       "    }\n",
       "\n",
       "    .dataframe thead th {\n",
       "        text-align: right;\n",
       "    }\n",
       "</style>\n",
       "<table border=\"1\" class=\"dataframe\">\n",
       "  <thead>\n",
       "    <tr style=\"text-align: right;\">\n",
       "      <th></th>\n",
       "      <th>decimalLongitude</th>\n",
       "      <th>decimalLatitude</th>\n",
       "      <th>genus</th>\n",
       "      <th>species</th>\n",
       "      <th>year</th>\n",
       "      <th>month</th>\n",
       "      <th>day</th>\n",
       "      <th>eventDate</th>\n",
       "      <th>countryCode</th>\n",
       "      <th>stateProvince</th>\n",
       "      <th>locality</th>\n",
       "      <th>elevation</th>\n",
       "    </tr>\n",
       "  </thead>\n",
       "  <tbody>\n",
       "    <tr>\n",
       "      <th>3051</th>\n",
       "      <td>0.00000</td>\n",
       "      <td>0.00</td>\n",
       "      <td>Espeletia</td>\n",
       "      <td>Espeletia figueirasii</td>\n",
       "      <td>1969.0</td>\n",
       "      <td>10.0</td>\n",
       "      <td>11.0</td>\n",
       "      <td>11/10/1969</td>\n",
       "      <td>VE</td>\n",
       "      <td>NaN</td>\n",
       "      <td>Merida: Sierra Nevada de Santo Domingo, Paramo...</td>\n",
       "      <td>3240.0</td>\n",
       "    </tr>\n",
       "    <tr>\n",
       "      <th>3054</th>\n",
       "      <td>0.00000</td>\n",
       "      <td>0.00</td>\n",
       "      <td>Espeletia</td>\n",
       "      <td>Espeletia summapacis</td>\n",
       "      <td>1975.0</td>\n",
       "      <td>2.0</td>\n",
       "      <td>7.0</td>\n",
       "      <td>7/02/1975</td>\n",
       "      <td>CO</td>\n",
       "      <td>Cundinamarca</td>\n",
       "      <td>Macizo de Sumapaz adelante de Andabobos, cerea...</td>\n",
       "      <td>3975.0</td>\n",
       "    </tr>\n",
       "    <tr>\n",
       "      <th>4457</th>\n",
       "      <td>0.00000</td>\n",
       "      <td>0.00</td>\n",
       "      <td>Espeletia</td>\n",
       "      <td>Espeletia glandulosa</td>\n",
       "      <td>NaN</td>\n",
       "      <td>NaN</td>\n",
       "      <td>NaN</td>\n",
       "      <td>NaN</td>\n",
       "      <td>CO</td>\n",
       "      <td>NaN</td>\n",
       "      <td>\"Cordillera Oriental</td>\n",
       "      <td>3200.0</td>\n",
       "    </tr>\n",
       "    <tr>\n",
       "      <th>4458</th>\n",
       "      <td>0.00000</td>\n",
       "      <td>0.00</td>\n",
       "      <td>Espeletia</td>\n",
       "      <td>Espeletia curialensis</td>\n",
       "      <td>NaN</td>\n",
       "      <td>NaN</td>\n",
       "      <td>NaN</td>\n",
       "      <td>NaN</td>\n",
       "      <td>CO</td>\n",
       "      <td>Boyaca</td>\n",
       "      <td>\"Paramo entre Chita y Secama, vertiente orient...</td>\n",
       "      <td>3350.0</td>\n",
       "    </tr>\n",
       "    <tr>\n",
       "      <th>4460</th>\n",
       "      <td>0.00000</td>\n",
       "      <td>0.00</td>\n",
       "      <td>Espeletia</td>\n",
       "      <td>Espeletia lopezii</td>\n",
       "      <td>1973.0</td>\n",
       "      <td>2.0</td>\n",
       "      <td>25.0</td>\n",
       "      <td>25/02/1973</td>\n",
       "      <td>CO</td>\n",
       "      <td>Boyacá</td>\n",
       "      <td>Sierra Nevada del Cucuy, Páramo Concavo. Valle...</td>\n",
       "      <td>4335.0</td>\n",
       "    </tr>\n",
       "    <tr>\n",
       "      <th>4461</th>\n",
       "      <td>0.00000</td>\n",
       "      <td>0.00</td>\n",
       "      <td>Espeletia</td>\n",
       "      <td>Espeletia brachyaxiantha</td>\n",
       "      <td>NaN</td>\n",
       "      <td>NaN</td>\n",
       "      <td>NaN</td>\n",
       "      <td>NaN</td>\n",
       "      <td>CO</td>\n",
       "      <td>Boyacá</td>\n",
       "      <td>\"Páramos al NW de Belén, vereda S. José de la ...</td>\n",
       "      <td>4.0</td>\n",
       "    </tr>\n",
       "    <tr>\n",
       "      <th>11937</th>\n",
       "      <td>0.00000</td>\n",
       "      <td>0.00</td>\n",
       "      <td>Espeletia</td>\n",
       "      <td>Espeletia spectabilis</td>\n",
       "      <td>1972.0</td>\n",
       "      <td>11.0</td>\n",
       "      <td>18.0</td>\n",
       "      <td>18/11/1972</td>\n",
       "      <td>VE</td>\n",
       "      <td>NaN</td>\n",
       "      <td>Edo. Mérida. Párame de San José, el Zajón del ...</td>\n",
       "      <td>1550.0</td>\n",
       "    </tr>\n",
       "    <tr>\n",
       "      <th>11939</th>\n",
       "      <td>0.00000</td>\n",
       "      <td>0.00</td>\n",
       "      <td>Espeletia</td>\n",
       "      <td>NaN</td>\n",
       "      <td>1968.0</td>\n",
       "      <td>7.0</td>\n",
       "      <td>2.0</td>\n",
       "      <td>2/07/1968</td>\n",
       "      <td>CO</td>\n",
       "      <td>NaN</td>\n",
       "      <td>Depto. Boyacá,</td>\n",
       "      <td>0.0</td>\n",
       "    </tr>\n",
       "    <tr>\n",
       "      <th>15622</th>\n",
       "      <td>0.00000</td>\n",
       "      <td>0.00</td>\n",
       "      <td>Espeletia</td>\n",
       "      <td>Espeletia pycnophylla</td>\n",
       "      <td>1978.0</td>\n",
       "      <td>8.0</td>\n",
       "      <td>17.0</td>\n",
       "      <td>17/08/1978</td>\n",
       "      <td>EC</td>\n",
       "      <td>Carchi</td>\n",
       "      <td>Carretera el Playen - El Carmele - Panamericna...</td>\n",
       "      <td>NaN</td>\n",
       "    </tr>\n",
       "    <tr>\n",
       "      <th>15623</th>\n",
       "      <td>0.00000</td>\n",
       "      <td>0.00</td>\n",
       "      <td>Espeletia</td>\n",
       "      <td>Espeletia pycnophylla</td>\n",
       "      <td>1978.0</td>\n",
       "      <td>7.0</td>\n",
       "      <td>6.0</td>\n",
       "      <td>6/07/1978</td>\n",
       "      <td>EC</td>\n",
       "      <td>Carchi-Napo</td>\n",
       "      <td>Via Julio Andrade-Playon de San Francisco (Suc...</td>\n",
       "      <td>NaN</td>\n",
       "    </tr>\n",
       "    <tr>\n",
       "      <th>15624</th>\n",
       "      <td>0.00000</td>\n",
       "      <td>0.00</td>\n",
       "      <td>Espeletia</td>\n",
       "      <td>Espeletia grandiflora</td>\n",
       "      <td>1968.0</td>\n",
       "      <td>8.0</td>\n",
       "      <td>13.0</td>\n",
       "      <td>13/08/1968</td>\n",
       "      <td>CO</td>\n",
       "      <td>Cundinamarca</td>\n",
       "      <td>Subparamo below Paramo de Chisaca, excessively...</td>\n",
       "      <td>3300.0</td>\n",
       "    </tr>\n",
       "    <tr>\n",
       "      <th>15625</th>\n",
       "      <td>0.00000</td>\n",
       "      <td>0.00</td>\n",
       "      <td>Espeletia</td>\n",
       "      <td>Espeletia pycnophylla</td>\n",
       "      <td>1979.0</td>\n",
       "      <td>9.0</td>\n",
       "      <td>22.0</td>\n",
       "      <td>22/09/1979</td>\n",
       "      <td>EC</td>\n",
       "      <td>Carchi</td>\n",
       "      <td>26 km west of Tulcan on road to Maldonado, pav...</td>\n",
       "      <td>3510.0</td>\n",
       "    </tr>\n",
       "    <tr>\n",
       "      <th>20024</th>\n",
       "      <td>37.30972</td>\n",
       "      <td>-0.38</td>\n",
       "      <td>Espeletia</td>\n",
       "      <td>Espeletia pycnophylla</td>\n",
       "      <td>1997.0</td>\n",
       "      <td>1.0</td>\n",
       "      <td>30.0</td>\n",
       "      <td>30/01/1997</td>\n",
       "      <td>EC</td>\n",
       "      <td>NaN</td>\n",
       "      <td>Ecuador: Carchi. NW Ecuador: Páramo El Ángel,c...</td>\n",
       "      <td>NaN</td>\n",
       "    </tr>\n",
       "    <tr>\n",
       "      <th>20025</th>\n",
       "      <td>37.30972</td>\n",
       "      <td>-0.38</td>\n",
       "      <td>Espeletia</td>\n",
       "      <td>Espeletia pycnophylla</td>\n",
       "      <td>1997.0</td>\n",
       "      <td>1.0</td>\n",
       "      <td>30.0</td>\n",
       "      <td>30/01/1997</td>\n",
       "      <td>EC</td>\n",
       "      <td>NaN</td>\n",
       "      <td>Ecuador: Carchi. NW Ecuador: Páramo El Ángel,c...</td>\n",
       "      <td>NaN</td>\n",
       "    </tr>\n",
       "  </tbody>\n",
       "</table>\n",
       "</div>"
      ],
      "text/plain": [
       "       decimalLongitude  decimalLatitude      genus                   species  \\\n",
       "3051            0.00000             0.00  Espeletia     Espeletia figueirasii   \n",
       "3054            0.00000             0.00  Espeletia      Espeletia summapacis   \n",
       "4457            0.00000             0.00  Espeletia      Espeletia glandulosa   \n",
       "4458            0.00000             0.00  Espeletia     Espeletia curialensis   \n",
       "4460            0.00000             0.00  Espeletia         Espeletia lopezii   \n",
       "4461            0.00000             0.00  Espeletia  Espeletia brachyaxiantha   \n",
       "11937           0.00000             0.00  Espeletia     Espeletia spectabilis   \n",
       "11939           0.00000             0.00  Espeletia                       NaN   \n",
       "15622           0.00000             0.00  Espeletia     Espeletia pycnophylla   \n",
       "15623           0.00000             0.00  Espeletia     Espeletia pycnophylla   \n",
       "15624           0.00000             0.00  Espeletia     Espeletia grandiflora   \n",
       "15625           0.00000             0.00  Espeletia     Espeletia pycnophylla   \n",
       "20024          37.30972            -0.38  Espeletia     Espeletia pycnophylla   \n",
       "20025          37.30972            -0.38  Espeletia     Espeletia pycnophylla   \n",
       "\n",
       "         year  month   day   eventDate countryCode stateProvince  \\\n",
       "3051   1969.0   10.0  11.0  11/10/1969          VE           NaN   \n",
       "3054   1975.0    2.0   7.0   7/02/1975          CO  Cundinamarca   \n",
       "4457      NaN    NaN   NaN         NaN          CO           NaN   \n",
       "4458      NaN    NaN   NaN         NaN          CO        Boyaca   \n",
       "4460   1973.0    2.0  25.0  25/02/1973          CO        Boyacá   \n",
       "4461      NaN    NaN   NaN         NaN          CO        Boyacá   \n",
       "11937  1972.0   11.0  18.0  18/11/1972          VE           NaN   \n",
       "11939  1968.0    7.0   2.0   2/07/1968          CO           NaN   \n",
       "15622  1978.0    8.0  17.0  17/08/1978          EC        Carchi   \n",
       "15623  1978.0    7.0   6.0   6/07/1978          EC   Carchi-Napo   \n",
       "15624  1968.0    8.0  13.0  13/08/1968          CO  Cundinamarca   \n",
       "15625  1979.0    9.0  22.0  22/09/1979          EC        Carchi   \n",
       "20024  1997.0    1.0  30.0  30/01/1997          EC           NaN   \n",
       "20025  1997.0    1.0  30.0  30/01/1997          EC           NaN   \n",
       "\n",
       "                                                locality  elevation  \n",
       "3051   Merida: Sierra Nevada de Santo Domingo, Paramo...     3240.0  \n",
       "3054   Macizo de Sumapaz adelante de Andabobos, cerea...     3975.0  \n",
       "4457                                \"Cordillera Oriental     3200.0  \n",
       "4458   \"Paramo entre Chita y Secama, vertiente orient...     3350.0  \n",
       "4460   Sierra Nevada del Cucuy, Páramo Concavo. Valle...     4335.0  \n",
       "4461   \"Páramos al NW de Belén, vereda S. José de la ...        4.0  \n",
       "11937  Edo. Mérida. Párame de San José, el Zajón del ...     1550.0  \n",
       "11939                                     Depto. Boyacá,        0.0  \n",
       "15622  Carretera el Playen - El Carmele - Panamericna...        NaN  \n",
       "15623  Via Julio Andrade-Playon de San Francisco (Suc...        NaN  \n",
       "15624  Subparamo below Paramo de Chisaca, excessively...     3300.0  \n",
       "15625  26 km west of Tulcan on road to Maldonado, pav...     3510.0  \n",
       "20024  Ecuador: Carchi. NW Ecuador: Páramo El Ángel,c...        NaN  \n",
       "20025  Ecuador: Carchi. NW Ecuador: Páramo El Ángel,c...        NaN  "
      ]
     },
     "execution_count": 17,
     "metadata": {},
     "output_type": "execute_result"
    }
   ],
   "source": [
    "df_na_coor[df_na_coor['decimalLongitude'] > -60]"
   ]
  },
  {
   "cell_type": "code",
   "execution_count": 18,
   "id": "ae3de659",
   "metadata": {},
   "outputs": [
    {
     "name": "stdout",
     "output_type": "stream",
     "text": [
      "(24083, 12)\n",
      "(24069, 12)\n",
      "Eliminamos 14 entradas del DataFrame\n"
     ]
    }
   ],
   "source": [
    "# Eliminar esas entradas del dataframe\n",
    "print(df_na_coor.shape)\n",
    "df_filt = df_na_coor[df_na_coor['decimalLongitude'] <= -60]\n",
    "print(df_filt.shape)\n",
    "print(f\"Eliminamos {df_na_coor.shape[0] - df_filt.shape[0]} entradas del DataFrame\")"
   ]
  },
  {
   "cell_type": "code",
   "execution_count": 19,
   "id": "9a12a442",
   "metadata": {},
   "outputs": [
    {
     "data": {
      "image/png": "[encoded data removed]",
      "text/plain": [
       "<Figure size 800x800 with 3 Axes>"
      ]
     },
     "metadata": {},
     "output_type": "display_data"
    }
   ],
   "source": [
    "# Generate scatter plot\n",
    "import seaborn as sbn\n",
    "import matplotlib.pyplot as plt\n",
    "\n",
    "plot = sbn.jointplot(\n",
    "    x='decimalLongitude', \n",
    "    y='decimalLatitude', \n",
    "    data=df_filt, \n",
    "    s=5,  # Tamaño de los puntos\n",
    "    height=8\n",
    ")\n",
    "\n",
    "# Agregar título y etiquetas\n",
    "plot.fig.suptitle(\"Distribución de puntos de Espeletia\", y=1.02, fontsize=16)\n",
    "plot.set_axis_labels(\"Longitud\", \"Latitud\")\n",
    "\n",
    "plt.show()"
   ]
  },
  {
   "cell_type": "code",
   "execution_count": null,
   "id": "435889a4",
   "metadata": {},
   "outputs": [],
   "source": [
    "# Guardar el DataFrame filtrado en un nuevo archivo CSV\n",
    "#df_filt.to_csv(\"C:/Users/danie/Documents/ESPECIALIZACION-ANALITICA/03_Analisis Geoespacial/Ocurrence_Espeletia_All_Filt.csv\", sep=\",\", index=False)"
   ]
  },
  {
   "cell_type": "code",
   "execution_count": 21,
   "id": "340c528a",
   "metadata": {},
   "outputs": [
    {
     "data": {
      "text/plain": [
       "(7257, 12)"
      ]
     },
     "execution_count": 21,
     "metadata": {},
     "output_type": "execute_result"
    }
   ],
   "source": [
    "# Guardamos un dataframe a parte para las entradas sin elevación\n",
    "# Filtrar los datos sin elevación\n",
    "sin_elevacion = df_filt[df_filt['elevation'].isna()]\n",
    "sin_elevacion.shape\n",
    "\n",
    "# Guardar los datos sin elevación en un archivo CSV para análisis adicional (opcional)\n",
    "#sin_elevacion.to_csv(\"C:/Users/danie/Documents/ESPECIALIZACION-ANALITICA/03_Analisis Geoespacial/datos_sin_elevacion.csv\", index=False, sep=\";\")"
   ]
  },
  {
   "cell_type": "code",
   "execution_count": 22,
   "id": "42b18dc9",
   "metadata": {},
   "outputs": [
    {
     "data": {
      "text/plain": [
       "Index(['decimalLongitude', 'decimalLatitude', 'genus', 'species', 'year',\n",
       "       'month', 'day', 'eventDate', 'countryCode', 'stateProvince', 'locality',\n",
       "       'elevation'],\n",
       "      dtype='object')"
      ]
     },
     "execution_count": 22,
     "metadata": {},
     "output_type": "execute_result"
    }
   ],
   "source": [
    "sin_elevacion.columns"
   ]
  },
  {
   "cell_type": "code",
   "execution_count": 34,
   "id": "36099eff",
   "metadata": {},
   "outputs": [
    {
     "data": {
      "text/plain": [
       "(2386, 17)"
      ]
     },
     "execution_count": 34,
     "metadata": {},
     "output_type": "execute_result"
    }
   ],
   "source": [
    "import pandas as pd\n",
    "\n",
    "elevacion = pd.read_csv(\"C:/Users/danie/Documents/ESPECIALIZACION-ANALITICA/03_Analisis Geoespacial/Prueba_elevacion.txt\", sep=\"\\t\")\n",
    "elevacion.shape"
   ]
  },
  {
   "cell_type": "code",
   "execution_count": 24,
   "id": "93c0fc1a",
   "metadata": {},
   "outputs": [
    {
     "name": "stdout",
     "output_type": "stream",
     "text": [
      "(21284, 12)\n",
      "Tenemos 21284 entradas de Colombia en el DataFrame\n"
     ]
    }
   ],
   "source": [
    "# ¿Qué entradas tenemos de Colombia?\n",
    "df_na_col = df_na_coor[df_na_coor['countryCode'] == 'CO']\n",
    "print(df_na_col.shape)\n",
    "print(f\"Tenemos {df_na_col.shape[0]} entradas de Colombia en el DataFrame\")"
   ]
  },
  {
   "cell_type": "markdown",
   "id": "0d818582",
   "metadata": {},
   "source": [
    "### Incluimos las observaciones de NCBI con lecturas genómicas"
   ]
  },
  {
   "cell_type": "code",
   "execution_count": 25,
   "id": "0c0cf0ba",
   "metadata": {},
   "outputs": [
    {
     "name": "stdout",
     "output_type": "stream",
     "text": [
      "<class 'pandas.core.frame.DataFrame'>\n",
      "RangeIndex: 83 entries, 0 to 82\n",
      "Data columns (total 13 columns):\n",
      " #   Column                           Non-Null Count  Dtype  \n",
      "---  ------                           --------------  -----  \n",
      " 0   Run                              83 non-null     object \n",
      " 1   Collection_Date                  83 non-null     object \n",
      " 2   environment_(biome)              83 non-null     object \n",
      " 3   environment_(feature)            83 non-null     object \n",
      " 4   environment_(material)           83 non-null     object \n",
      " 5   Experiment                       83 non-null     object \n",
      " 6   external_id                      83 non-null     object \n",
      " 7   geo_loc_name_country             83 non-null     object \n",
      " 8   geographic_location_(latitude)   83 non-null     float64\n",
      " 9   geographic_location_(longitude)  83 non-null     float64\n",
      " 10  Organism                         83 non-null     object \n",
      " 11  Sample Name                      83 non-null     object \n",
      " 12  Sample_name                      83 non-null     object \n",
      "dtypes: float64(2), object(11)\n",
      "memory usage: 8.6+ KB\n",
      "None\n",
      "               Run Collection_Date environment_(biome) environment_(feature)  \\\n",
      "count           83              83                  83                    83   \n",
      "unique          83              22                   4                     3   \n",
      "top     ERR4604211       9/11/2012              páramo             grassland   \n",
      "freq             1              10                  34                    41   \n",
      "mean           NaN             NaN                 NaN                   NaN   \n",
      "std            NaN             NaN                 NaN                   NaN   \n",
      "min            NaN             NaN                 NaN                   NaN   \n",
      "25%            NaN             NaN                 NaN                   NaN   \n",
      "50%            NaN             NaN                 NaN                   NaN   \n",
      "75%            NaN             NaN                 NaN                   NaN   \n",
      "max            NaN             NaN                 NaN                   NaN   \n",
      "\n",
      "       environment_(material)  Experiment   external_id geo_loc_name_country  \\\n",
      "count                      83          83            83                   83   \n",
      "unique                      1          83            64                    4   \n",
      "top                      soil  ERX4536358  SAMEA7315112            Venezuela   \n",
      "freq                       83           1             2                   74   \n",
      "mean                      NaN         NaN           NaN                  NaN   \n",
      "std                       NaN         NaN           NaN                  NaN   \n",
      "min                       NaN         NaN           NaN                  NaN   \n",
      "25%                       NaN         NaN           NaN                  NaN   \n",
      "50%                       NaN         NaN           NaN                  NaN   \n",
      "75%                       NaN         NaN           NaN                  NaN   \n",
      "max                       NaN         NaN           NaN                  NaN   \n",
      "\n",
      "        geographic_location_(latitude)  geographic_location_(longitude)  \\\n",
      "count                        83.000000                        83.000000   \n",
      "unique                             NaN                              NaN   \n",
      "top                                NaN                              NaN   \n",
      "freq                               NaN                              NaN   \n",
      "mean                          8.424587                       -71.567823   \n",
      "std                           1.701806                         2.689819   \n",
      "min                           0.710624                       -92.618036   \n",
      "25%                           8.306231                       -71.577600   \n",
      "50%                           8.700666                       -71.055550   \n",
      "75%                           8.980560                       -70.551103   \n",
      "max                          16.468500                       -70.118380   \n",
      "\n",
      "                  Organism   Sample Name Sample_name  \n",
      "count                   83            83          83  \n",
      "unique                  60            64          64  \n",
      "top     Espeletia badilloi  SAMEA7315112     ESPIN23  \n",
      "freq                     3             2           2  \n",
      "mean                   NaN           NaN         NaN  \n",
      "std                    NaN           NaN         NaN  \n",
      "min                    NaN           NaN         NaN  \n",
      "25%                    NaN           NaN         NaN  \n",
      "50%                    NaN           NaN         NaN  \n",
      "75%                    NaN           NaN         NaN  \n",
      "max                    NaN           NaN         NaN  \n"
     ]
    }
   ],
   "source": [
    "import pandas as pd\n",
    "\n",
    "genMeta = pd.read_csv(\"C:/Users/danie/Documents/Reads_Espeletia/MetaData_Espeletia_short.csv\", sep=\";\")\n",
    "print(genMeta.info())     # Revisa tipos de datos y nulos\n",
    "print(genMeta.describe(include='all'))  # Revisa estadísticos de las columnas"
   ]
  },
  {
   "cell_type": "code",
   "execution_count": 26,
   "id": "8e154bdb",
   "metadata": {},
   "outputs": [
    {
     "name": "stdout",
     "output_type": "stream",
     "text": [
      "0     Venezuela\n",
      "1     Venezuela\n",
      "2     Venezuela\n",
      "3     Venezuela\n",
      "4     Venezuela\n",
      "        ...    \n",
      "78    Venezuela\n",
      "79    Venezuela\n",
      "80    Venezuela\n",
      "81     Colombia\n",
      "82     Colombia\n",
      "Name: geo_loc_name_country, Length: 83, dtype: object\n"
     ]
    }
   ],
   "source": [
    "print(genMeta.geo_loc_name_country)"
   ]
  },
  {
   "cell_type": "markdown",
   "id": "a0ff0e4a",
   "metadata": {},
   "source": [
    "Deseamos unir los dataframes 'genMeta' y 'df_filt' en un solo dataframe  \n",
    "  \n",
    "Para esto los dataframes deben tener al menos una columna en común"
   ]
  },
  {
   "cell_type": "code",
   "execution_count": 27,
   "id": "8883bed7",
   "metadata": {},
   "outputs": [
    {
     "name": "stdout",
     "output_type": "stream",
     "text": [
      "0        Espeletia\n",
      "1        Espeletia\n",
      "2        Espeletia\n",
      "3        Espeletia\n",
      "4        Espeletia\n",
      "           ...    \n",
      "39466    Espeletia\n",
      "39467    Espeletia\n",
      "39468    Espeletia\n",
      "39469    Espeletia\n",
      "39470    Espeletia\n",
      "Name: genus, Length: 24069, dtype: object\n",
      "Index(['Run', 'Collection_Date', 'environment_(biome)',\n",
      "       'environment_(feature)', 'environment_(material)', 'Experiment',\n",
      "       'external_id', 'geo_loc_name_country', 'geographic_location_(latitude)',\n",
      "       'geographic_location_(longitude)', 'Organism', 'Sample Name',\n",
      "       'Sample_name'],\n",
      "      dtype='object')\n"
     ]
    },
    {
     "data": {
      "application/vnd.microsoft.datawrangler.viewer.v0+json": {
       "columns": [
        {
         "name": "index",
         "rawType": "int64",
         "type": "integer"
        },
        {
         "name": "Organism",
         "rawType": "object",
         "type": "string"
        }
       ],
       "ref": "c6397098-f320-48d5-bc5d-2030abc29072",
       "rows": [
        [
         "0",
         "Espeletia angustifolia"
        ],
        [
         "1",
         "Espeletia aristeguietana"
        ],
        [
         "2",
         "Espeletia atropurpurea"
        ],
        [
         "3",
         "Espeletia badilloi"
        ],
        [
         "4",
         "Espeletia badilloi var. pittieri"
        ],
        [
         "5",
         "Espeletia batata"
        ],
        [
         "6",
         "Espeletia bracteosa"
        ],
        [
         "7",
         "Espeletia brassicoidea"
        ],
        [
         "8",
         "Espeletia bromelioides"
        ],
        [
         "9",
         "Espeletia caldasii"
        ],
        [
         "10",
         "Espeletia chardonii"
        ],
        [
         "11",
         "Espeletia figueirasii"
        ],
        [
         "12",
         "Espeletia floccosa"
        ],
        [
         "13",
         "Espeletia glandulosa"
        ],
        [
         "14",
         "Espeletia griffinii"
        ],
        [
         "15",
         "Espeletia jabonensis"
        ],
        [
         "16",
         "Espeletia jahnii"
        ],
        [
         "17",
         "Espeletia leucactina"
        ],
        [
         "18",
         "Espeletia lindenii"
        ],
        [
         "19",
         "Espeletia lopez-palacii"
        ],
        [
         "20",
         "Espeletia marcescens"
        ],
        [
         "21",
         "Espeletia moritziana"
        ],
        [
         "22",
         "Espeletia nana"
        ],
        [
         "23",
         "Espeletia neriifolia"
        ],
        [
         "24",
         "Espeletia occulta"
        ],
        [
         "25",
         "Espeletia paltonioides"
        ],
        [
         "26",
         "Espeletia palustris"
        ],
        [
         "27",
         "Espeletia pannosa"
        ],
        [
         "28",
         "Espeletia purpurascens"
        ],
        [
         "29",
         "Espeletia purpurascens"
        ],
        [
         "30",
         "Espeletia ruizii"
        ],
        [
         "31",
         "Espeletia schultzii"
        ],
        [
         "32",
         "Espeletia schultzii"
        ],
        [
         "33",
         "Espeletia semiglobulata"
        ],
        [
         "34",
         "Espeletia spicata"
        ],
        [
         "35",
         "Espeletia steyermarkii"
        ],
        [
         "36",
         "Espeletia spectabilis"
        ],
        [
         "37",
         "Espeletia tenorae"
        ],
        [
         "38",
         "Espeletia thyrsiformis"
        ],
        [
         "39",
         "Espeletia timotensis"
        ],
        [
         "40",
         "Espeletia trujillensis"
        ],
        [
         "41",
         "Espeletia vergarae"
        ],
        [
         "42",
         "Espeletia viridis"
        ],
        [
         "43",
         "Rumfordia penninervis"
        ],
        [
         "44",
         "Smallanthus pyramidalis"
        ],
        [
         "45",
         "Espeletia cuatrecasasii"
        ],
        [
         "46",
         "Espeletia cuatrecasasii"
        ],
        [
         "47",
         "Espeletia pycnophylla"
        ],
        [
         "48",
         "Espeletia pycnophylla"
        ],
        [
         "49",
         "Espeletia albarregensis"
        ]
       ],
       "shape": {
        "columns": 1,
        "rows": 83
       }
      },
      "text/plain": [
       "0               Espeletia angustifolia\n",
       "1             Espeletia aristeguietana\n",
       "2               Espeletia atropurpurea\n",
       "3                   Espeletia badilloi\n",
       "4     Espeletia badilloi var. pittieri\n",
       "                    ...               \n",
       "78                    Espeletia tamana\n",
       "79                Espeletia hanburyana\n",
       "80                Espeletia hanburyana\n",
       "81                  Espeletia cardonae\n",
       "82                  Espeletia cardonae\n",
       "Name: Organism, Length: 83, dtype: object"
      ]
     },
     "execution_count": 27,
     "metadata": {},
     "output_type": "execute_result"
    }
   ],
   "source": [
    "print(df_filt.genus)\n",
    "print(genMeta.columns)\n",
    "genMeta.Organism"
   ]
  },
  {
   "cell_type": "code",
   "execution_count": 28,
   "id": "77f4e60a",
   "metadata": {},
   "outputs": [
    {
     "name": "stdout",
     "output_type": "stream",
     "text": [
      "(24069, 12)\n"
     ]
    },
    {
     "data": {
      "text/plain": [
       "np.int64(24069)"
      ]
     },
     "execution_count": 28,
     "metadata": {},
     "output_type": "execute_result"
    }
   ],
   "source": [
    "print(df_filt.shape)\n",
    "(df_filt['genus'] == 'Espeletia').sum()"
   ]
  },
  {
   "cell_type": "code",
   "execution_count": 29,
   "id": "a1f4cb49",
   "metadata": {},
   "outputs": [
    {
     "name": "stdout",
     "output_type": "stream",
     "text": [
      "(83, 14)\n"
     ]
    },
    {
     "data": {
      "text/plain": [
       "np.int64(83)"
      ]
     },
     "execution_count": 29,
     "metadata": {},
     "output_type": "execute_result"
    }
   ],
   "source": [
    "# Creamos nueva columnas llamada 'genus' donde todo sea Espeletia\n",
    "genMeta['genus'] = 'Espeletia'\n",
    "print(genMeta.shape)\n",
    "(genMeta['genus'] == 'Espeletia').sum()"
   ]
  },
  {
   "cell_type": "code",
   "execution_count": 30,
   "id": "bf349aa6",
   "metadata": {},
   "outputs": [
    {
     "data": {
      "text/plain": [
       "(83, 7)"
      ]
     },
     "execution_count": 30,
     "metadata": {},
     "output_type": "execute_result"
    }
   ],
   "source": [
    "columnas_importantes = ['geo_loc_name_country', 'geographic_location_(latitude)',\n",
    "       'geographic_location_(longitude)', 'Organism', 'Sample Name',\n",
    "       'Sample_name', 'genus']\n",
    "Meta = genMeta[columnas_importantes] \n",
    "Meta.shape"
   ]
  },
  {
   "cell_type": "code",
   "execution_count": 31,
   "id": "6b3f5a38",
   "metadata": {},
   "outputs": [
    {
     "name": "stdout",
     "output_type": "stream",
     "text": [
      "Index(['geo_loc_name_country', 'decimalLatitude', 'decimalLongitude',\n",
      "       'Organism', 'Sample Name', 'Sample_name', 'genus'],\n",
      "      dtype='object')\n",
      "Index(['decimalLongitude', 'decimalLatitude', 'genus', 'species', 'year',\n",
      "       'month', 'day', 'eventDate', 'countryCode', 'stateProvince', 'locality',\n",
      "       'elevation'],\n",
      "      dtype='object')\n"
     ]
    }
   ],
   "source": [
    "Meta = Meta.rename(columns={\n",
    "    'geographic_location_(longitude)': 'decimalLongitude',\n",
    "    'geographic_location_(latitude)': 'decimalLatitude'\n",
    "})\n",
    "\n",
    "# Verifica los cambios\n",
    "print(Meta.columns)\n",
    "print(df_filt.columns)"
   ]
  },
  {
   "cell_type": "code",
   "execution_count": 32,
   "id": "8fe95cc5",
   "metadata": {},
   "outputs": [],
   "source": [
    "# df_merged = pd.merge(df_filt, Meta, on='genus', how='inner')\n",
    "# print(df_merged.shape)"
   ]
  }
 ],
 "metadata": {
  "kernelspec": {
   "display_name": "GeoSpatial",
   "language": "python",
   "name": "python3"
  },
  "language_info": {
   "codemirror_mode": {
    "name": "ipython",
    "version": 3
   },
   "file_extension": ".py",
   "mimetype": "text/x-python",
   "name": "python",
   "nbconvert_exporter": "python",
   "pygments_lexer": "ipython3",
   "version": "3.13.3"
  }
 },
 "nbformat": 4,
 "nbformat_minor": 5
}
