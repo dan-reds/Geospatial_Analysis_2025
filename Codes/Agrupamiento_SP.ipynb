{
 "cells": [
  {
   "cell_type": "code",
   "execution_count": 1,
   "id": "3056dd34",
   "metadata": {},
   "outputs": [],
   "source": [
    "import pandas as pd\n",
    "\n",
    "ruta = \"C:/Users/danie/Documents/ESPECIALIZACION-ANALITICA/03_Analisis Geoespacial/biovars_v1_gee_full.csv\"\n",
    "#ruta = \"C:/Users/danie/Documents/ESPECIALIZACION-ANALITICA/03_Analisis Geoespacial/biovars_espeletia_total.csv\"\n",
    "bio = pd.read_csv(ruta, sep=\",\", encoding=\"utf-8\")"
   ]
  },
  {
   "cell_type": "code",
   "execution_count": 2,
   "id": "070d273b",
   "metadata": {},
   "outputs": [
    {
     "name": "stdout",
     "output_type": "stream",
     "text": [
      "<class 'pandas.core.frame.DataFrame'>\n",
      "RangeIndex: 22309 entries, 0 to 22308\n",
      "Data columns (total 31 columns):\n",
      " #   Column         Non-Null Count  Dtype  \n",
      "---  ------         --------------  -----  \n",
      " 0   system:index   22309 non-null  object \n",
      " 1   bio01          22309 non-null  float64\n",
      " 2   bio02          22309 non-null  float64\n",
      " 3   bio03          22309 non-null  float64\n",
      " 4   bio04          22309 non-null  float64\n",
      " 5   bio05          22309 non-null  float64\n",
      " 6   bio06          22309 non-null  float64\n",
      " 7   bio07          22309 non-null  float64\n",
      " 8   bio08          22309 non-null  float64\n",
      " 9   bio09          22309 non-null  float64\n",
      " 10  bio10          22309 non-null  float64\n",
      " 11  bio11          22309 non-null  float64\n",
      " 12  bio12          22309 non-null  float64\n",
      " 13  bio13          22309 non-null  float64\n",
      " 14  bio14          22309 non-null  float64\n",
      " 15  bio15          22309 non-null  float64\n",
      " 16  bio16          22309 non-null  float64\n",
      " 17  bio17          22309 non-null  float64\n",
      " 18  bio18          22309 non-null  float64\n",
      " 19  bio19          22309 non-null  float64\n",
      " 20  countryCode    22309 non-null  object \n",
      " 21  elevation_DEM  22309 non-null  int64  \n",
      " 22  eventDate      22162 non-null  object \n",
      " 23  genus          22309 non-null  object \n",
      " 24  latitude       22309 non-null  float64\n",
      " 25  locality       20453 non-null  object \n",
      " 26  lon_lat        22309 non-null  object \n",
      " 27  longitude      22309 non-null  float64\n",
      " 28  species        21146 non-null  object \n",
      " 29  stateProvince  21312 non-null  object \n",
      " 30  .geo           22309 non-null  object \n",
      "dtypes: float64(21), int64(1), object(9)\n",
      "memory usage: 5.3+ MB\n"
     ]
    }
   ],
   "source": [
    "bio.info()"
   ]
  },
  {
   "cell_type": "code",
   "execution_count": 3,
   "id": "03b2bccd",
   "metadata": {},
   "outputs": [
    {
     "data": {
      "application/vnd.microsoft.datawrangler.viewer.v0+json": {
       "columns": [
        {
         "name": "index",
         "rawType": "object",
         "type": "string"
        },
        {
         "name": "system:index",
         "rawType": "object",
         "type": "unknown"
        },
        {
         "name": "bio01",
         "rawType": "float64",
         "type": "float"
        },
        {
         "name": "bio02",
         "rawType": "float64",
         "type": "float"
        },
        {
         "name": "bio03",
         "rawType": "float64",
         "type": "float"
        },
        {
         "name": "bio04",
         "rawType": "float64",
         "type": "float"
        },
        {
         "name": "bio05",
         "rawType": "float64",
         "type": "float"
        },
        {
         "name": "bio06",
         "rawType": "float64",
         "type": "float"
        },
        {
         "name": "bio07",
         "rawType": "float64",
         "type": "float"
        },
        {
         "name": "bio08",
         "rawType": "float64",
         "type": "float"
        },
        {
         "name": "bio09",
         "rawType": "float64",
         "type": "float"
        },
        {
         "name": "bio10",
         "rawType": "float64",
         "type": "float"
        },
        {
         "name": "bio11",
         "rawType": "float64",
         "type": "float"
        },
        {
         "name": "bio12",
         "rawType": "float64",
         "type": "float"
        },
        {
         "name": "bio13",
         "rawType": "float64",
         "type": "float"
        },
        {
         "name": "bio14",
         "rawType": "float64",
         "type": "float"
        },
        {
         "name": "bio15",
         "rawType": "float64",
         "type": "float"
        },
        {
         "name": "bio16",
         "rawType": "float64",
         "type": "float"
        },
        {
         "name": "bio17",
         "rawType": "float64",
         "type": "float"
        },
        {
         "name": "bio18",
         "rawType": "float64",
         "type": "float"
        },
        {
         "name": "bio19",
         "rawType": "float64",
         "type": "float"
        },
        {
         "name": "countryCode",
         "rawType": "object",
         "type": "unknown"
        },
        {
         "name": "elevation_DEM",
         "rawType": "float64",
         "type": "float"
        },
        {
         "name": "eventDate",
         "rawType": "object",
         "type": "unknown"
        },
        {
         "name": "genus",
         "rawType": "object",
         "type": "unknown"
        },
        {
         "name": "latitude",
         "rawType": "float64",
         "type": "float"
        },
        {
         "name": "locality",
         "rawType": "object",
         "type": "unknown"
        },
        {
         "name": "lon_lat",
         "rawType": "object",
         "type": "unknown"
        },
        {
         "name": "longitude",
         "rawType": "float64",
         "type": "float"
        },
        {
         "name": "species",
         "rawType": "object",
         "type": "unknown"
        },
        {
         "name": "stateProvince",
         "rawType": "object",
         "type": "unknown"
        },
        {
         "name": ".geo",
         "rawType": "object",
         "type": "unknown"
        }
       ],
       "ref": "a509de57-2903-47d3-b8ac-f6a2805cd812",
       "rows": [
        [
         "count",
         "22309",
         "22309.0",
         "22309.0",
         "22309.0",
         "22309.0",
         "22309.0",
         "22309.0",
         "22309.0",
         "22309.0",
         "22309.0",
         "22309.0",
         "22309.0",
         "22309.0",
         "22309.0",
         "22309.0",
         "22309.0",
         "22309.0",
         "22309.0",
         "22309.0",
         "22309.0",
         "22309",
         "22309.0",
         "22162",
         "22309",
         "22309.0",
         "20453",
         "22309",
         "22309.0",
         "21146",
         "21312",
         "22309"
        ],
        [
         "unique",
         "22309",
         null,
         null,
         null,
         null,
         null,
         null,
         null,
         null,
         null,
         null,
         null,
         null,
         null,
         null,
         null,
         null,
         null,
         null,
         null,
         "3",
         null,
         "3151",
         "1",
         null,
         "2536",
         "4668",
         null,
         "143",
         "45",
         "4318"
        ],
        [
         "top",
         "00000000000000002f76",
         null,
         null,
         null,
         null,
         null,
         null,
         null,
         null,
         null,
         null,
         null,
         null,
         null,
         null,
         null,
         null,
         null,
         null,
         null,
         "CO",
         null,
         "18/03/2014",
         "Espeletia",
         null,
         "Parque Nacional Natural del Cocuy",
         "{\"type\":\"Point\",\"coordinates\":[-72.3198323350888,6.34816800103085]}",
         null,
         "Espeletia grandiflora",
         "Cundinamarca",
         "{\"type\":\"Point\",\"coordinates\":[-72.36045920478675,6.291524040348929]}"
        ],
        [
         "freq",
         "1",
         null,
         null,
         null,
         null,
         null,
         null,
         null,
         null,
         null,
         null,
         null,
         null,
         null,
         null,
         null,
         null,
         null,
         null,
         null,
         "20220",
         null,
         "541",
         "22309",
         null,
         "3195",
         "588",
         null,
         "3135",
         "5760",
         "636"
        ],
        [
         "mean",
         null,
         "78.80913532654982",
         "87.95114079519476",
         "79.65888206553409",
         "383.7540902774665",
         "133.33605271415124",
         "23.130799229010712",
         "110.20525348514053",
         "77.77237886054955",
         "77.87224886816979",
         "82.7107445425613",
         "73.25935721009458",
         "1634.4050831502982",
         "215.02021605630014",
         "51.83464072795733",
         "38.71894750997355",
         "584.1966022681429",
         "208.9662468062217",
         "450.72136805773454",
         "473.4985431888476",
         null,
         "3499.8429781702453",
         null,
         null,
         "5.102998516983381",
         null,
         null,
         "-73.99603032702016",
         null,
         null,
         null
        ],
        [
         "std",
         null,
         "23.38325939417183",
         "7.686894200789507",
         "5.064724044300221",
         "81.97876428431674",
         "25.190288547708608",
         "23.510648596903764",
         "12.080985212589702",
         "24.18702913779132",
         "23.343821680185243",
         "23.50230745935733",
         "23.405720370529146",
         "513.6997257213447",
         "79.39037770985657",
         "33.33487332127977",
         "12.610966665020793",
         "213.47160707290527",
         "102.43754172396396",
         "140.6636658872357",
         "253.79168052970115",
         null,
         "356.7180527865311",
         null,
         null,
         "1.9782267118444088",
         null,
         null,
         "1.8174697671586497",
         null,
         null,
         null
        ],
        [
         "min",
         null,
         "-25.0",
         "77.0",
         "70.0",
         "128.0",
         "20.0",
         "-75.0",
         "88.0",
         "-24.0",
         "-27.0",
         "-23.0",
         "-28.0",
         "633.0",
         "89.0",
         "7.0",
         "16.0",
         "246.0",
         "26.0",
         "177.0",
         "27.0",
         null,
         "2800.0",
         null,
         null,
         "-1.500104021793942",
         null,
         null,
         "-78.91672007467875",
         null,
         null,
         null
        ],
        [
         "25%",
         null,
         "71.0",
         "83.0",
         "76.0",
         "341.0",
         "121.0",
         "16.0",
         "102.0",
         "69.0",
         "69.0",
         "74.0",
         "65.0",
         "1250.0",
         "154.0",
         "26.0",
         "31.0",
         "413.0",
         "143.0",
         "360.0",
         "305.0",
         null,
         "3275.0",
         null,
         null,
         "4.494537529517612",
         null,
         null,
         "-75.32354969120574",
         null,
         null,
         null
        ],
        [
         "50%",
         null,
         "81.0",
         "86.0",
         "77.0",
         "390.0",
         "137.0",
         "28.0",
         "109.0",
         "79.0",
         "80.0",
         "85.0",
         "75.0",
         "1468.0",
         "181.0",
         "45.0",
         "34.0",
         "489.0",
         "191.0",
         "413.0",
         "427.0",
         null,
         "3437.0",
         null,
         null,
         "5.219475883281576",
         null,
         null,
         "-73.83782627030917",
         null,
         null,
         null
        ],
        [
         "75%",
         null,
         "92.0",
         "92.0",
         "85.0",
         "434.0",
         "148.0",
         "40.0",
         "116.0",
         "93.0",
         "91.0",
         "97.0",
         "87.0",
         "1974.0",
         "258.0",
         "70.0",
         "49.0",
         "712.0",
         "247.0",
         "537.0",
         "613.0",
         null,
         "3644.0",
         null,
         null,
         "6.342999902909907",
         null,
         null,
         "-72.69570779928797",
         null,
         null,
         null
        ],
        [
         "max",
         null,
         "145.0",
         "120.0",
         "93.0",
         "781.0",
         "211.0",
         "83.0",
         "150.0",
         "150.0",
         "138.0",
         "150.0",
         "138.0",
         "3277.0",
         "453.0",
         "154.0",
         "66.0",
         "1216.0",
         "490.0",
         "1095.0",
         "1216.0",
         null,
         "5287.0",
         null,
         null,
         "10.941924988088688",
         null,
         null,
         "-70.07379651177128",
         null,
         null,
         null
        ]
       ],
       "shape": {
        "columns": 31,
        "rows": 11
       }
      },
      "text/html": [
       "<div>\n",
       "<style scoped>\n",
       "    .dataframe tbody tr th:only-of-type {\n",
       "        vertical-align: middle;\n",
       "    }\n",
       "\n",
       "    .dataframe tbody tr th {\n",
       "        vertical-align: top;\n",
       "    }\n",
       "\n",
       "    .dataframe thead th {\n",
       "        text-align: right;\n",
       "    }\n",
       "</style>\n",
       "<table border=\"1\" class=\"dataframe\">\n",
       "  <thead>\n",
       "    <tr style=\"text-align: right;\">\n",
       "      <th></th>\n",
       "      <th>system:index</th>\n",
       "      <th>bio01</th>\n",
       "      <th>bio02</th>\n",
       "      <th>bio03</th>\n",
       "      <th>bio04</th>\n",
       "      <th>bio05</th>\n",
       "      <th>bio06</th>\n",
       "      <th>bio07</th>\n",
       "      <th>bio08</th>\n",
       "      <th>bio09</th>\n",
       "      <th>...</th>\n",
       "      <th>elevation_DEM</th>\n",
       "      <th>eventDate</th>\n",
       "      <th>genus</th>\n",
       "      <th>latitude</th>\n",
       "      <th>locality</th>\n",
       "      <th>lon_lat</th>\n",
       "      <th>longitude</th>\n",
       "      <th>species</th>\n",
       "      <th>stateProvince</th>\n",
       "      <th>.geo</th>\n",
       "    </tr>\n",
       "  </thead>\n",
       "  <tbody>\n",
       "    <tr>\n",
       "      <th>count</th>\n",
       "      <td>22309</td>\n",
       "      <td>22309.000000</td>\n",
       "      <td>22309.000000</td>\n",
       "      <td>22309.000000</td>\n",
       "      <td>22309.000000</td>\n",
       "      <td>22309.000000</td>\n",
       "      <td>22309.000000</td>\n",
       "      <td>22309.000000</td>\n",
       "      <td>22309.000000</td>\n",
       "      <td>22309.000000</td>\n",
       "      <td>...</td>\n",
       "      <td>22309.000000</td>\n",
       "      <td>22162</td>\n",
       "      <td>22309</td>\n",
       "      <td>22309.000000</td>\n",
       "      <td>20453</td>\n",
       "      <td>22309</td>\n",
       "      <td>22309.000000</td>\n",
       "      <td>21146</td>\n",
       "      <td>21312</td>\n",
       "      <td>22309</td>\n",
       "    </tr>\n",
       "    <tr>\n",
       "      <th>unique</th>\n",
       "      <td>22309</td>\n",
       "      <td>NaN</td>\n",
       "      <td>NaN</td>\n",
       "      <td>NaN</td>\n",
       "      <td>NaN</td>\n",
       "      <td>NaN</td>\n",
       "      <td>NaN</td>\n",
       "      <td>NaN</td>\n",
       "      <td>NaN</td>\n",
       "      <td>NaN</td>\n",
       "      <td>...</td>\n",
       "      <td>NaN</td>\n",
       "      <td>3151</td>\n",
       "      <td>1</td>\n",
       "      <td>NaN</td>\n",
       "      <td>2536</td>\n",
       "      <td>4668</td>\n",
       "      <td>NaN</td>\n",
       "      <td>143</td>\n",
       "      <td>45</td>\n",
       "      <td>4318</td>\n",
       "    </tr>\n",
       "    <tr>\n",
       "      <th>top</th>\n",
       "      <td>00000000000000002f76</td>\n",
       "      <td>NaN</td>\n",
       "      <td>NaN</td>\n",
       "      <td>NaN</td>\n",
       "      <td>NaN</td>\n",
       "      <td>NaN</td>\n",
       "      <td>NaN</td>\n",
       "      <td>NaN</td>\n",
       "      <td>NaN</td>\n",
       "      <td>NaN</td>\n",
       "      <td>...</td>\n",
       "      <td>NaN</td>\n",
       "      <td>18/03/2014</td>\n",
       "      <td>Espeletia</td>\n",
       "      <td>NaN</td>\n",
       "      <td>Parque Nacional Natural del Cocuy</td>\n",
       "      <td>{\"type\":\"Point\",\"coordinates\":[-72.31983233508...</td>\n",
       "      <td>NaN</td>\n",
       "      <td>Espeletia grandiflora</td>\n",
       "      <td>Cundinamarca</td>\n",
       "      <td>{\"type\":\"Point\",\"coordinates\":[-72.36045920478...</td>\n",
       "    </tr>\n",
       "    <tr>\n",
       "      <th>freq</th>\n",
       "      <td>1</td>\n",
       "      <td>NaN</td>\n",
       "      <td>NaN</td>\n",
       "      <td>NaN</td>\n",
       "      <td>NaN</td>\n",
       "      <td>NaN</td>\n",
       "      <td>NaN</td>\n",
       "      <td>NaN</td>\n",
       "      <td>NaN</td>\n",
       "      <td>NaN</td>\n",
       "      <td>...</td>\n",
       "      <td>NaN</td>\n",
       "      <td>541</td>\n",
       "      <td>22309</td>\n",
       "      <td>NaN</td>\n",
       "      <td>3195</td>\n",
       "      <td>588</td>\n",
       "      <td>NaN</td>\n",
       "      <td>3135</td>\n",
       "      <td>5760</td>\n",
       "      <td>636</td>\n",
       "    </tr>\n",
       "    <tr>\n",
       "      <th>mean</th>\n",
       "      <td>NaN</td>\n",
       "      <td>78.809135</td>\n",
       "      <td>87.951141</td>\n",
       "      <td>79.658882</td>\n",
       "      <td>383.754090</td>\n",
       "      <td>133.336053</td>\n",
       "      <td>23.130799</td>\n",
       "      <td>110.205253</td>\n",
       "      <td>77.772379</td>\n",
       "      <td>77.872249</td>\n",
       "      <td>...</td>\n",
       "      <td>3499.842978</td>\n",
       "      <td>NaN</td>\n",
       "      <td>NaN</td>\n",
       "      <td>5.102999</td>\n",
       "      <td>NaN</td>\n",
       "      <td>NaN</td>\n",
       "      <td>-73.996030</td>\n",
       "      <td>NaN</td>\n",
       "      <td>NaN</td>\n",
       "      <td>NaN</td>\n",
       "    </tr>\n",
       "    <tr>\n",
       "      <th>std</th>\n",
       "      <td>NaN</td>\n",
       "      <td>23.383259</td>\n",
       "      <td>7.686894</td>\n",
       "      <td>5.064724</td>\n",
       "      <td>81.978764</td>\n",
       "      <td>25.190289</td>\n",
       "      <td>23.510649</td>\n",
       "      <td>12.080985</td>\n",
       "      <td>24.187029</td>\n",
       "      <td>23.343822</td>\n",
       "      <td>...</td>\n",
       "      <td>356.718053</td>\n",
       "      <td>NaN</td>\n",
       "      <td>NaN</td>\n",
       "      <td>1.978227</td>\n",
       "      <td>NaN</td>\n",
       "      <td>NaN</td>\n",
       "      <td>1.817470</td>\n",
       "      <td>NaN</td>\n",
       "      <td>NaN</td>\n",
       "      <td>NaN</td>\n",
       "    </tr>\n",
       "    <tr>\n",
       "      <th>min</th>\n",
       "      <td>NaN</td>\n",
       "      <td>-25.000000</td>\n",
       "      <td>77.000000</td>\n",
       "      <td>70.000000</td>\n",
       "      <td>128.000000</td>\n",
       "      <td>20.000000</td>\n",
       "      <td>-75.000000</td>\n",
       "      <td>88.000000</td>\n",
       "      <td>-24.000000</td>\n",
       "      <td>-27.000000</td>\n",
       "      <td>...</td>\n",
       "      <td>2800.000000</td>\n",
       "      <td>NaN</td>\n",
       "      <td>NaN</td>\n",
       "      <td>-1.500104</td>\n",
       "      <td>NaN</td>\n",
       "      <td>NaN</td>\n",
       "      <td>-78.916720</td>\n",
       "      <td>NaN</td>\n",
       "      <td>NaN</td>\n",
       "      <td>NaN</td>\n",
       "    </tr>\n",
       "    <tr>\n",
       "      <th>25%</th>\n",
       "      <td>NaN</td>\n",
       "      <td>71.000000</td>\n",
       "      <td>83.000000</td>\n",
       "      <td>76.000000</td>\n",
       "      <td>341.000000</td>\n",
       "      <td>121.000000</td>\n",
       "      <td>16.000000</td>\n",
       "      <td>102.000000</td>\n",
       "      <td>69.000000</td>\n",
       "      <td>69.000000</td>\n",
       "      <td>...</td>\n",
       "      <td>3275.000000</td>\n",
       "      <td>NaN</td>\n",
       "      <td>NaN</td>\n",
       "      <td>4.494538</td>\n",
       "      <td>NaN</td>\n",
       "      <td>NaN</td>\n",
       "      <td>-75.323550</td>\n",
       "      <td>NaN</td>\n",
       "      <td>NaN</td>\n",
       "      <td>NaN</td>\n",
       "    </tr>\n",
       "    <tr>\n",
       "      <th>50%</th>\n",
       "      <td>NaN</td>\n",
       "      <td>81.000000</td>\n",
       "      <td>86.000000</td>\n",
       "      <td>77.000000</td>\n",
       "      <td>390.000000</td>\n",
       "      <td>137.000000</td>\n",
       "      <td>28.000000</td>\n",
       "      <td>109.000000</td>\n",
       "      <td>79.000000</td>\n",
       "      <td>80.000000</td>\n",
       "      <td>...</td>\n",
       "      <td>3437.000000</td>\n",
       "      <td>NaN</td>\n",
       "      <td>NaN</td>\n",
       "      <td>5.219476</td>\n",
       "      <td>NaN</td>\n",
       "      <td>NaN</td>\n",
       "      <td>-73.837826</td>\n",
       "      <td>NaN</td>\n",
       "      <td>NaN</td>\n",
       "      <td>NaN</td>\n",
       "    </tr>\n",
       "    <tr>\n",
       "      <th>75%</th>\n",
       "      <td>NaN</td>\n",
       "      <td>92.000000</td>\n",
       "      <td>92.000000</td>\n",
       "      <td>85.000000</td>\n",
       "      <td>434.000000</td>\n",
       "      <td>148.000000</td>\n",
       "      <td>40.000000</td>\n",
       "      <td>116.000000</td>\n",
       "      <td>93.000000</td>\n",
       "      <td>91.000000</td>\n",
       "      <td>...</td>\n",
       "      <td>3644.000000</td>\n",
       "      <td>NaN</td>\n",
       "      <td>NaN</td>\n",
       "      <td>6.343000</td>\n",
       "      <td>NaN</td>\n",
       "      <td>NaN</td>\n",
       "      <td>-72.695708</td>\n",
       "      <td>NaN</td>\n",
       "      <td>NaN</td>\n",
       "      <td>NaN</td>\n",
       "    </tr>\n",
       "    <tr>\n",
       "      <th>max</th>\n",
       "      <td>NaN</td>\n",
       "      <td>145.000000</td>\n",
       "      <td>120.000000</td>\n",
       "      <td>93.000000</td>\n",
       "      <td>781.000000</td>\n",
       "      <td>211.000000</td>\n",
       "      <td>83.000000</td>\n",
       "      <td>150.000000</td>\n",
       "      <td>150.000000</td>\n",
       "      <td>138.000000</td>\n",
       "      <td>...</td>\n",
       "      <td>5287.000000</td>\n",
       "      <td>NaN</td>\n",
       "      <td>NaN</td>\n",
       "      <td>10.941925</td>\n",
       "      <td>NaN</td>\n",
       "      <td>NaN</td>\n",
       "      <td>-70.073797</td>\n",
       "      <td>NaN</td>\n",
       "      <td>NaN</td>\n",
       "      <td>NaN</td>\n",
       "    </tr>\n",
       "  </tbody>\n",
       "</table>\n",
       "<p>11 rows × 31 columns</p>\n",
       "</div>"
      ],
      "text/plain": [
       "                system:index         bio01         bio02         bio03  \\\n",
       "count                  22309  22309.000000  22309.000000  22309.000000   \n",
       "unique                 22309           NaN           NaN           NaN   \n",
       "top     00000000000000002f76           NaN           NaN           NaN   \n",
       "freq                       1           NaN           NaN           NaN   \n",
       "mean                     NaN     78.809135     87.951141     79.658882   \n",
       "std                      NaN     23.383259      7.686894      5.064724   \n",
       "min                      NaN    -25.000000     77.000000     70.000000   \n",
       "25%                      NaN     71.000000     83.000000     76.000000   \n",
       "50%                      NaN     81.000000     86.000000     77.000000   \n",
       "75%                      NaN     92.000000     92.000000     85.000000   \n",
       "max                      NaN    145.000000    120.000000     93.000000   \n",
       "\n",
       "               bio04         bio05         bio06         bio07         bio08  \\\n",
       "count   22309.000000  22309.000000  22309.000000  22309.000000  22309.000000   \n",
       "unique           NaN           NaN           NaN           NaN           NaN   \n",
       "top              NaN           NaN           NaN           NaN           NaN   \n",
       "freq             NaN           NaN           NaN           NaN           NaN   \n",
       "mean      383.754090    133.336053     23.130799    110.205253     77.772379   \n",
       "std        81.978764     25.190289     23.510649     12.080985     24.187029   \n",
       "min       128.000000     20.000000    -75.000000     88.000000    -24.000000   \n",
       "25%       341.000000    121.000000     16.000000    102.000000     69.000000   \n",
       "50%       390.000000    137.000000     28.000000    109.000000     79.000000   \n",
       "75%       434.000000    148.000000     40.000000    116.000000     93.000000   \n",
       "max       781.000000    211.000000     83.000000    150.000000    150.000000   \n",
       "\n",
       "               bio09  ...  elevation_DEM   eventDate      genus      latitude  \\\n",
       "count   22309.000000  ...   22309.000000       22162      22309  22309.000000   \n",
       "unique           NaN  ...            NaN        3151          1           NaN   \n",
       "top              NaN  ...            NaN  18/03/2014  Espeletia           NaN   \n",
       "freq             NaN  ...            NaN         541      22309           NaN   \n",
       "mean       77.872249  ...    3499.842978         NaN        NaN      5.102999   \n",
       "std        23.343822  ...     356.718053         NaN        NaN      1.978227   \n",
       "min       -27.000000  ...    2800.000000         NaN        NaN     -1.500104   \n",
       "25%        69.000000  ...    3275.000000         NaN        NaN      4.494538   \n",
       "50%        80.000000  ...    3437.000000         NaN        NaN      5.219476   \n",
       "75%        91.000000  ...    3644.000000         NaN        NaN      6.343000   \n",
       "max       138.000000  ...    5287.000000         NaN        NaN     10.941925   \n",
       "\n",
       "                                 locality  \\\n",
       "count                               20453   \n",
       "unique                               2536   \n",
       "top     Parque Nacional Natural del Cocuy   \n",
       "freq                                 3195   \n",
       "mean                                  NaN   \n",
       "std                                   NaN   \n",
       "min                                   NaN   \n",
       "25%                                   NaN   \n",
       "50%                                   NaN   \n",
       "75%                                   NaN   \n",
       "max                                   NaN   \n",
       "\n",
       "                                                  lon_lat     longitude  \\\n",
       "count                                               22309  22309.000000   \n",
       "unique                                               4668           NaN   \n",
       "top     {\"type\":\"Point\",\"coordinates\":[-72.31983233508...           NaN   \n",
       "freq                                                  588           NaN   \n",
       "mean                                                  NaN    -73.996030   \n",
       "std                                                   NaN      1.817470   \n",
       "min                                                   NaN    -78.916720   \n",
       "25%                                                   NaN    -75.323550   \n",
       "50%                                                   NaN    -73.837826   \n",
       "75%                                                   NaN    -72.695708   \n",
       "max                                                   NaN    -70.073797   \n",
       "\n",
       "                      species  stateProvince  \\\n",
       "count                   21146          21312   \n",
       "unique                    143             45   \n",
       "top     Espeletia grandiflora   Cundinamarca   \n",
       "freq                     3135           5760   \n",
       "mean                      NaN            NaN   \n",
       "std                       NaN            NaN   \n",
       "min                       NaN            NaN   \n",
       "25%                       NaN            NaN   \n",
       "50%                       NaN            NaN   \n",
       "75%                       NaN            NaN   \n",
       "max                       NaN            NaN   \n",
       "\n",
       "                                                     .geo  \n",
       "count                                               22309  \n",
       "unique                                               4318  \n",
       "top     {\"type\":\"Point\",\"coordinates\":[-72.36045920478...  \n",
       "freq                                                  636  \n",
       "mean                                                  NaN  \n",
       "std                                                   NaN  \n",
       "min                                                   NaN  \n",
       "25%                                                   NaN  \n",
       "50%                                                   NaN  \n",
       "75%                                                   NaN  \n",
       "max                                                   NaN  \n",
       "\n",
       "[11 rows x 31 columns]"
      ]
     },
     "execution_count": 3,
     "metadata": {},
     "output_type": "execute_result"
    }
   ],
   "source": [
    "bio.describe(include = 'all')"
   ]
  },
  {
   "cell_type": "code",
   "execution_count": 4,
   "id": "f28dba0b",
   "metadata": {},
   "outputs": [
    {
     "name": "stdout",
     "output_type": "stream",
     "text": [
      "system:index        0\n",
      "bio01               0\n",
      "bio02               0\n",
      "bio03               0\n",
      "bio04               0\n",
      "bio05               0\n",
      "bio06               0\n",
      "bio07               0\n",
      "bio08               0\n",
      "bio09               0\n",
      "bio10               0\n",
      "bio11               0\n",
      "bio12               0\n",
      "bio13               0\n",
      "bio14               0\n",
      "bio15               0\n",
      "bio16               0\n",
      "bio17               0\n",
      "bio18               0\n",
      "bio19               0\n",
      "countryCode         0\n",
      "elevation_DEM       0\n",
      "eventDate         147\n",
      "genus               0\n",
      "latitude            0\n",
      "locality         1856\n",
      "lon_lat             0\n",
      "longitude           0\n",
      "species          1163\n",
      "stateProvince     997\n",
      ".geo                0\n",
      "dtype: int64\n"
     ]
    },
    {
     "data": {
      "text/plain": [
       "Index(['system:index', 'bio01', 'bio02', 'bio03', 'bio04', 'bio05', 'bio06',\n",
       "       'bio07', 'bio08', 'bio09', 'bio10', 'bio11', 'bio12', 'bio13', 'bio14',\n",
       "       'bio15', 'bio16', 'bio17', 'bio18', 'bio19', 'countryCode',\n",
       "       'elevation_DEM', 'eventDate', 'genus', 'latitude', 'locality',\n",
       "       'lon_lat', 'longitude', 'species', 'stateProvince', '.geo'],\n",
       "      dtype='object')"
      ]
     },
     "execution_count": 4,
     "metadata": {},
     "output_type": "execute_result"
    }
   ],
   "source": [
    "print(bio.isna().sum())\n",
    "bio.columns"
   ]
  },
  {
   "cell_type": "code",
   "execution_count": 5,
   "id": "7fed45f1",
   "metadata": {},
   "outputs": [
    {
     "name": "stdout",
     "output_type": "stream",
     "text": [
      "(22309, 31)\n"
     ]
    },
    {
     "data": {
      "text/plain": [
       "(22309, 30)"
      ]
     },
     "execution_count": 5,
     "metadata": {},
     "output_type": "execute_result"
    }
   ],
   "source": [
    "# Eliminar columnas innecesarias\n",
    "print(bio.shape)\n",
    "bio = bio.drop(columns=['system:index'])\n",
    "bio.shape"
   ]
  },
  {
   "cell_type": "code",
   "execution_count": 6,
   "id": "52e9094b",
   "metadata": {},
   "outputs": [
    {
     "name": "stdout",
     "output_type": "stream",
     "text": [
      "['Espeletia pycnophylla' 'Espeletia thyrsiformis' 'Espeletia trujillensis'\n",
      " 'Espeletia lopez-palacii' 'Espeletia paltonioides' 'Espeletia griffinii'\n",
      " 'Espeletia brassicoidea' 'Espeletia emmanuelis' 'Espeletia tachirensis'\n",
      " nan 'Espeletia marcescens' 'Espeletia barclayana' 'Espeletia corymbosa'\n",
      " 'Espeletia schultzii' 'Espeletia occulta' 'Espeletia grandiflora'\n",
      " 'Espeletia spectabilis' 'Espeletia liscanoana' 'Espeletia meridensis'\n",
      " 'Espeletia argentea' 'Espeletia atropurpurea' 'Espeletia parvula'\n",
      " 'Espeletia lucida' 'Espeletia chocontana' 'Espeletia hartwegiana'\n",
      " 'Espeletia arbelaezii' 'Espeletia roberti' 'Espeletia nemekenei'\n",
      " 'Espeletia killipii' 'Espeletia glandulosa' 'Espeletia rositae'\n",
      " 'Espeletia congestiflora' 'Espeletia tamana' 'Espeletia cleefii'\n",
      " 'Espeletia lopezii' 'Espeletia summapacis' 'Espeletia colombiana'\n",
      " 'Espeletia boyacensis' 'Espeletia incana' 'Espeletia azucarina'\n",
      " 'Espeletia brachyaxiantha' 'Espeletia neriifolia' 'Espeletia spicata'\n",
      " 'Espeletia lindenii' 'Espeletia conglomerata' 'Espeletia santanderensis'\n",
      " 'Espeletia occidentalis' 'Espeletia frontinoensis' 'Espeletia restricta'\n",
      " 'Espeletia praefrontina' 'Espeletia purpurascens'\n",
      " 'Espeletia steyermarkii' 'Espeletia curialensis' 'Espeletia bogotensis'\n",
      " 'Espeletia cabrerensis' 'Espeletia pleiochasia'\n",
      " 'Espeletia cristalinensis' 'Espeletia garciae' 'Espeletia tunjana'\n",
      " 'Espeletia oswaldiana' 'Espeletia sclerophylla' 'Espeletia murilloi'\n",
      " 'Espeletia muiska' 'Espeletia jimenez-quesadae' 'Espeletia petiolata'\n",
      " 'Espeletia guacharaca' 'Espeletia annemariana' 'Espeletia betancurii'\n",
      " 'Espeletia soroca' 'Espeletia discoidea' 'Espeletia jaramilloi'\n",
      " 'Espeletia pescana' 'Espeletia pulcherrima' 'Espeletia formosa'\n",
      " 'Espeletia paipana' 'Espeletia rabanalensis' 'Espeletia raquirensis'\n",
      " 'Espeletia episcopalis' 'Espeletia tibamoensis' 'Espeletia cayetana'\n",
      " 'Espeletia ariana' 'Espeletia mirabilis' 'Espeletia cachaluensis'\n",
      " 'Espeletia idroboi' 'Espeletia perijaensis' 'Espeletia divisoriensis'\n",
      " 'Espeletia uribei' 'Espeletia pachoana' 'Espeletia garcibarrigae'\n",
      " 'Espeletia verdeana' 'Espeletia guascensis' 'Espeletia vergarae'\n",
      " 'Espeletia jabonensis' 'Espeletia ulotricha' 'Espeletia miradorensis'\n",
      " 'Espeletia timotensis' 'Espeletia moritziana' 'Espeletia cuatrecasasii'\n",
      " 'Espeletia ruizii' 'Espeletia josephensis' 'Espeletia banksiifolia'\n",
      " 'Espeletia weddelii' 'Espeletia marthae' 'Espeletia arborea'\n",
      " 'Espeletia coloradarum' 'Espeletia bromelioides' 'Espeletia figueirasii'\n",
      " 'Espeletia angustifolia' 'Espeletia pannosa' 'Espeletia pozoensis'\n",
      " 'Espeletia palustris' 'Espeletia badilloi' 'Espeletia hanburyana'\n",
      " 'Espeletia jajoensis' 'Espeletia batata' 'Libanothamnus banksiaefolius'\n",
      " 'Espeletia elongata' 'Espeletia tenorae' 'Espeletia grisea'\n",
      " 'Espeletia bracteosa' 'Espeletia semiglobulata' 'Espeletia floccosa'\n",
      " 'Espeletia margarita' 'Espeletia nana' 'Espeletia albarregensis'\n",
      " 'Espeletia schultesiana' 'Espeletia insignis' 'Espeletia sanchezii'\n",
      " 'Espeletia dugandii' 'Espeletia standleyana' 'Espeletia funckii'\n",
      " 'Espeletia caldasii' 'Espeletiopsis almorzana' 'Espeletia canescens'\n",
      " 'Espeletia estanislana' 'Espeletia chardonii' 'Espeletia almorzana'\n",
      " 'Espeletia viridis' 'Espeletia aristeguietana' 'Espeletia cardonae'\n",
      " 'Espeletia ramosa' 'Espeletia praesidentis' 'Espeletia jahnii'\n",
      " 'Espeletia rodriguezii']\n",
      "Total de especies: 144\n"
     ]
    }
   ],
   "source": [
    "print(bio.species.unique())\n",
    "print(f\"Total de especies: {len(bio.species.unique())}\")"
   ]
  },
  {
   "cell_type": "code",
   "execution_count": 7,
   "id": "0f6901c8",
   "metadata": {},
   "outputs": [
    {
     "data": {
      "text/html": [
       "<h2>Total de especies: 144</h2>"
      ],
      "text/plain": [
       "<IPython.core.display.HTML object>"
      ]
     },
     "metadata": {},
     "output_type": "display_data"
    }
   ],
   "source": [
    "from IPython.display import display, HTML\n",
    "\n",
    "# Cambiar el tamaño de la letra usando HTML\n",
    "total_especies = len(bio.species.unique())\n",
    "display(HTML(f\"<h2>Total de especies: {total_especies}</h2>\"))"
   ]
  },
  {
   "cell_type": "code",
   "execution_count": 8,
   "id": "6bb371cc",
   "metadata": {},
   "outputs": [
    {
     "name": "stdout",
     "output_type": "stream",
     "text": [
      "Espeletia albarregensis\n",
      "Espeletia almorzana\n",
      "Espeletia angustifolia\n",
      "Espeletia annemariana\n",
      "Espeletia arbelaezii\n",
      "Espeletia arborea\n",
      "Espeletia argentea\n",
      "Espeletia ariana\n",
      "Espeletia aristeguietana\n",
      "Espeletia atropurpurea\n",
      "Espeletia azucarina\n",
      "Espeletia badilloi\n",
      "Espeletia banksiifolia\n",
      "Espeletia barclayana\n",
      "Espeletia batata\n",
      "Espeletia betancurii\n",
      "Espeletia bogotensis\n",
      "Espeletia boyacensis\n",
      "Espeletia brachyaxiantha\n",
      "Espeletia bracteosa\n",
      "Espeletia brassicoidea\n",
      "Espeletia bromelioides\n",
      "Espeletia cabrerensis\n",
      "Espeletia cachaluensis\n",
      "Espeletia caldasii\n",
      "Espeletia canescens\n",
      "Espeletia cardonae\n",
      "Espeletia cayetana\n",
      "Espeletia chardonii\n",
      "Espeletia chocontana\n",
      "Espeletia cleefii\n",
      "Espeletia colombiana\n",
      "Espeletia coloradarum\n",
      "Espeletia congestiflora\n",
      "Espeletia conglomerata\n",
      "Espeletia corymbosa\n",
      "Espeletia cristalinensis\n",
      "Espeletia cuatrecasasii\n",
      "Espeletia curialensis\n",
      "Espeletia discoidea\n",
      "Espeletia divisoriensis\n",
      "Espeletia dugandii\n",
      "Espeletia elongata\n",
      "Espeletia emmanuelis\n",
      "Espeletia episcopalis\n",
      "Espeletia estanislana\n",
      "Espeletia figueirasii\n",
      "Espeletia floccosa\n",
      "Espeletia formosa\n",
      "Espeletia frontinoensis\n",
      "Espeletia funckii\n",
      "Espeletia garciae\n",
      "Espeletia garcibarrigae\n",
      "Espeletia glandulosa\n",
      "Espeletia grandiflora\n",
      "Espeletia griffinii\n",
      "Espeletia grisea\n",
      "Espeletia guacharaca\n",
      "Espeletia guascensis\n",
      "Espeletia hanburyana\n",
      "Espeletia hartwegiana\n",
      "Espeletia idroboi\n",
      "Espeletia incana\n",
      "Espeletia insignis\n",
      "Espeletia jabonensis\n",
      "Espeletia jahnii\n",
      "Espeletia jajoensis\n",
      "Espeletia jaramilloi\n",
      "Espeletia jimenez-quesadae\n",
      "Espeletia josephensis\n",
      "Espeletia killipii\n",
      "Espeletia lindenii\n",
      "Espeletia liscanoana\n",
      "Espeletia lopez-palacii\n",
      "Espeletia lopezii\n",
      "Espeletia lucida\n",
      "Espeletia marcescens\n",
      "Espeletia margarita\n",
      "Espeletia marthae\n",
      "Espeletia meridensis\n",
      "Espeletia mirabilis\n",
      "Espeletia miradorensis\n",
      "Espeletia moritziana\n",
      "Espeletia muiska\n",
      "Espeletia murilloi\n",
      "Espeletia nana\n",
      "Espeletia nemekenei\n",
      "Espeletia neriifolia\n",
      "Espeletia occidentalis\n",
      "Espeletia occulta\n",
      "Espeletia oswaldiana\n",
      "Espeletia pachoana\n",
      "Espeletia paipana\n",
      "Espeletia paltonioides\n",
      "Espeletia palustris\n",
      "Espeletia pannosa\n",
      "Espeletia parvula\n",
      "Espeletia perijaensis\n",
      "Espeletia pescana\n",
      "Espeletia petiolata\n",
      "Espeletia pleiochasia\n",
      "Espeletia pozoensis\n",
      "Espeletia praefrontina\n",
      "Espeletia praesidentis\n",
      "Espeletia pulcherrima\n",
      "Espeletia purpurascens\n",
      "Espeletia pycnophylla\n",
      "Espeletia rabanalensis\n",
      "Espeletia ramosa\n",
      "Espeletia raquirensis\n",
      "Espeletia restricta\n",
      "Espeletia roberti\n",
      "Espeletia rodriguezii\n",
      "Espeletia rositae\n",
      "Espeletia ruizii\n",
      "Espeletia sanchezii\n",
      "Espeletia santanderensis\n",
      "Espeletia schultesiana\n",
      "Espeletia schultzii\n",
      "Espeletia sclerophylla\n",
      "Espeletia semiglobulata\n",
      "Espeletia soroca\n",
      "Espeletia spectabilis\n",
      "Espeletia spicata\n",
      "Espeletia standleyana\n",
      "Espeletia steyermarkii\n",
      "Espeletia summapacis\n",
      "Espeletia tachirensis\n",
      "Espeletia tamana\n",
      "Espeletia tenorae\n",
      "Espeletia thyrsiformis\n",
      "Espeletia tibamoensis\n",
      "Espeletia timotensis\n",
      "Espeletia trujillensis\n",
      "Espeletia tunjana\n",
      "Espeletia ulotricha\n",
      "Espeletia uribei\n",
      "Espeletia verdeana\n",
      "Espeletia vergarae\n",
      "Espeletia viridis\n",
      "Espeletia weddelii\n",
      "Espeletiopsis almorzana\n",
      "Libanothamnus banksiaefolius\n"
     ]
    }
   ],
   "source": [
    "# Mostrar la columna species ordenada alfabéticamente\n",
    "species_ordenadas = sorted(bio['species'].dropna().unique())\n",
    "# Mostrar las especies separadas por saltos de línea\n",
    "print('\\n'.join(species_ordenadas))"
   ]
  },
  {
   "cell_type": "code",
   "execution_count": 9,
   "id": "fd03e34a",
   "metadata": {},
   "outputs": [],
   "source": [
    "# Convertir todos los valores de la columna 'species' a cadenas\n",
    "bio['species'] = bio['species'].astype(str)"
   ]
  },
  {
   "cell_type": "code",
   "execution_count": 10,
   "id": "504407f4",
   "metadata": {},
   "outputs": [
    {
     "data": {
      "application/vnd.microsoft.datawrangler.viewer.v0+json": {
       "columns": [
        {
         "name": "species",
         "rawType": "object",
         "type": "string"
        },
        {
         "name": "count",
         "rawType": "int64",
         "type": "integer"
        }
       ],
       "ref": "2589860a-7b64-4e1f-ac61-68ff9979f659",
       "rows": [
        [
         "Espeletia grandiflora",
         "3135"
        ],
        [
         "Espeletia pycnophylla",
         "2335"
        ],
        [
         "Espeletia hartwegiana",
         "1961"
        ],
        [
         "Espeletia cleefii",
         "1700"
        ],
        [
         "Espeletia curialensis",
         "1544"
        ],
        [
         "nan",
         "1163"
        ],
        [
         "Espeletia corymbosa",
         "1059"
        ],
        [
         "Espeletia argentea",
         "1024"
        ],
        [
         "Espeletia boyacensis",
         "796"
        ],
        [
         "Espeletia frontinoensis",
         "789"
        ],
        [
         "Espeletia glandulosa",
         "623"
        ],
        [
         "Espeletia praefrontina",
         "620"
        ],
        [
         "Espeletia killipii",
         "554"
        ],
        [
         "Espeletia murilloi",
         "425"
        ],
        [
         "Espeletia brachyaxiantha",
         "414"
        ],
        [
         "Espeletia uribei",
         "376"
        ],
        [
         "Espeletia schultzii",
         "288"
        ],
        [
         "Espeletia barclayana",
         "209"
        ],
        [
         "Espeletia timotensis",
         "164"
        ],
        [
         "Espeletia congestiflora",
         "161"
        ],
        [
         "Espeletia petiolata",
         "156"
        ],
        [
         "Espeletia tunjana",
         "149"
        ],
        [
         "Espeletia lopezii",
         "144"
        ],
        [
         "Espeletia muiska",
         "126"
        ],
        [
         "Espeletia santanderensis",
         "118"
        ],
        [
         "Espeletia moritziana",
         "118"
        ],
        [
         "Espeletia chocontana",
         "97"
        ],
        [
         "Espeletia conglomerata",
         "93"
        ],
        [
         "Espeletia guacharaca",
         "91"
        ],
        [
         "Espeletia occulta",
         "87"
        ],
        [
         "Espeletia neriifolia",
         "80"
        ],
        [
         "Espeletia pescana",
         "77"
        ],
        [
         "Espeletia arbelaezii",
         "66"
        ],
        [
         "Espeletia atropurpurea",
         "60"
        ],
        [
         "Espeletia pleiochasia",
         "59"
        ],
        [
         "Espeletia colombiana",
         "59"
        ],
        [
         "Espeletia pannosa",
         "58"
        ],
        [
         "Espeletia cabrerensis",
         "55"
        ],
        [
         "Espeletia marcescens",
         "45"
        ],
        [
         "Espeletia incana",
         "40"
        ],
        [
         "Espeletia spicata",
         "39"
        ],
        [
         "Espeletia perijaensis",
         "39"
        ],
        [
         "Espeletia occidentalis",
         "36"
        ],
        [
         "Espeletia batata",
         "32"
        ],
        [
         "Espeletia sanchezii",
         "32"
        ],
        [
         "Espeletia summapacis",
         "27"
        ],
        [
         "Espeletia garciae",
         "27"
        ],
        [
         "Espeletia thyrsiformis",
         "27"
        ],
        [
         "Espeletia semiglobulata",
         "26"
        ],
        [
         "Espeletia paltonioides",
         "26"
        ]
       ],
       "shape": {
        "columns": 1,
        "rows": 144
       }
      },
      "text/plain": [
       "species\n",
       "Espeletia grandiflora     3135\n",
       "Espeletia pycnophylla     2335\n",
       "Espeletia hartwegiana     1961\n",
       "Espeletia cleefii         1700\n",
       "Espeletia curialensis     1544\n",
       "                          ... \n",
       "Espeletia palustris          1\n",
       "Espeletia margarita          1\n",
       "Espeletia ramosa             1\n",
       "Espeletia praesidentis       1\n",
       "Espeletia rodriguezii        1\n",
       "Name: count, Length: 144, dtype: int64"
      ]
     },
     "execution_count": 10,
     "metadata": {},
     "output_type": "execute_result"
    }
   ],
   "source": [
    "# ¿Cuantas observaciones hay por cada especie?\n",
    "bio['species'].value_counts()"
   ]
  },
  {
   "cell_type": "code",
   "execution_count": null,
   "id": "53f82e1f",
   "metadata": {},
   "outputs": [
    {
     "data": {
      "text/plain": [
       "Index(['Espeletia grandiflora', 'Espeletia pycnophylla',\n",
       "       'Espeletia hartwegiana', 'Espeletia cleefii', 'Espeletia curialensis',\n",
       "       'nan', 'Espeletia corymbosa', 'Espeletia argentea',\n",
       "       'Espeletia boyacensis', 'Espeletia frontinoensis',\n",
       "       'Espeletia glandulosa', 'Espeletia praefrontina', 'Espeletia killipii',\n",
       "       'Espeletia murilloi', 'Espeletia brachyaxiantha', 'Espeletia uribei',\n",
       "       'Espeletia schultzii', 'Espeletia barclayana', 'Espeletia timotensis',\n",
       "       'Espeletia congestiflora', 'Espeletia petiolata', 'Espeletia tunjana',\n",
       "       'Espeletia lopezii', 'Espeletia muiska', 'Espeletia santanderensis',\n",
       "       'Espeletia moritziana'],\n",
       "      dtype='object', name='species')"
      ]
     },
     "execution_count": 19,
     "metadata": {},
     "output_type": "execute_result"
    }
   ],
   "source": [
    "# Prmeras 26 especies de la lista\n",
    "primeras_especies = bio['species'].value_counts().head(26)\n",
    "primeras_especies.index"
   ]
  },
  {
   "cell_type": "code",
   "execution_count": null,
   "id": "866b2884",
   "metadata": {},
   "outputs": [],
   "source": [
    "# Exportar el índice de primeras_especies a un archivo .txt\n",
    "# primeras_especies.index.to_series().to_csv('../data/primeras_especies.txt', index=False, header=False)"
   ]
  },
  {
   "cell_type": "code",
   "execution_count": 11,
   "id": "9d3508e1",
   "metadata": {},
   "outputs": [
    {
     "data": {
      "image/png": "[encoded data removed]",
      "text/plain": [
       "<Figure size 800x500 with 1 Axes>"
      ]
     },
     "metadata": {},
     "output_type": "display_data"
    }
   ],
   "source": [
    "import pandas as pd\n",
    "import matplotlib.pyplot as plt\n",
    "import numpy as np\n",
    "\n",
    "# 1. Conteo de observaciones por especie\n",
    "conteos = bio['species'].value_counts()\n",
    "\n",
    "# 2. Curva acumulada\n",
    "acumulado = conteos.cumsum() / conteos.sum()\n",
    "\n",
    "# 3. Gráfico\n",
    "plt.figure(figsize=(8,5))\n",
    "plt.plot(range(1, len(acumulado)+1), acumulado.values, marker='o')\n",
    "plt.axhline(0.8, color='red', linestyle='--', label='80%')\n",
    "plt.axhline(0.9, color='orange', linestyle='--', label='90%')\n",
    "plt.axhline(0.95, color='green', linestyle='--', label='95%')\n",
    "plt.xlabel(\"Número de especies\")\n",
    "plt.ylabel(\"Fracción acumulada de observaciones\")\n",
    "plt.title(\"Curva acumulada de observaciones por especie\")\n",
    "plt.legend()\n",
    "plt.grid(True)\n",
    "plt.tight_layout()\n",
    "plt.show()\n"
   ]
  },
  {
   "cell_type": "code",
   "execution_count": 12,
   "id": "1e9027f6",
   "metadata": {},
   "outputs": [
    {
     "name": "stdout",
     "output_type": "stream",
     "text": [
      "Se necesitan 15 especies para cubrir el 80% de las observaciones\n",
      "Se necesitan 26 especies para cubrir el 90% de las observaciones\n",
      "Se necesitan 42 especies para cubrir el 95% de las observaciones\n"
     ]
    }
   ],
   "source": [
    "# ¿Cuántas especies hacen falta para cubrir el 80%?\n",
    "n_80 = np.argmax(acumulado.values >= 0.8) + 1\n",
    "n_90 = np.argmax(acumulado.values >= 0.9) + 1\n",
    "n_95 = np.argmax(acumulado.values >= 0.95) + 1\n",
    "print(f\"Se necesitan {n_80} especies para cubrir el 80% de las observaciones\")\n",
    "print(f\"Se necesitan {n_90} especies para cubrir el 90% de las observaciones\")\n",
    "print(f\"Se necesitan {n_95} especies para cubrir el 95% de las observaciones\")"
   ]
  },
  {
   "cell_type": "code",
   "execution_count": 13,
   "id": "ad98eec8",
   "metadata": {},
   "outputs": [
    {
     "data": {
      "text/plain": [
       "(20033, 30)"
      ]
     },
     "execution_count": 13,
     "metadata": {},
     "output_type": "execute_result"
    }
   ],
   "source": [
    "# Ahora quiero filtrar el DataFrame para quedarme solo con las especies que cubren el 90% de las observaciones\n",
    "especies_90 = conteos[conteos.cumsum() / conteos.sum() <= 0.9].index\n",
    "bio_90 = bio[bio['species'].isin(especies_90)]\n",
    "bio_90.shape"
   ]
  }
 ],
 "metadata": {
  "kernelspec": {
   "display_name": "GeoSpatial",
   "language": "python",
   "name": "python3"
  },
  "language_info": {
   "codemirror_mode": {
    "name": "ipython",
    "version": 3
   },
   "file_extension": ".py",
   "mimetype": "text/x-python",
   "name": "python",
   "nbconvert_exporter": "python",
   "pygments_lexer": "ipython3",
   "version": "3.13.3"
  }
 },
 "nbformat": 4,
 "nbformat_minor": 5
}
