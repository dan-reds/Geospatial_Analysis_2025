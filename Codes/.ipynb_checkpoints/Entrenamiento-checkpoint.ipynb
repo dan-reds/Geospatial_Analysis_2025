{
 "cells": [
  {
   "cell_type": "markdown",
   "id": "9e855324-3890-4be6-8354-c8947ad876ab",
   "metadata": {},
   "source": [
    "Ejemplo con el material del libro guía del curso"
   ]
  },
  {
   "cell_type": "code",
   "execution_count": 2,
   "id": "2a5e6cda-1533-4057-8f1e-e7e6a583ea8b",
   "metadata": {},
   "outputs": [],
   "source": [
    "#importar las librerias necesarias\n",
    "import geopandas as gpd\n",
    "from shapely.geometry import Point"
   ]
  },
  {
   "cell_type": "code",
   "execution_count": 3,
   "id": "2996e84f-39bd-4347-9ea8-71ffe40b9953",
   "metadata": {},
   "outputs": [
    {
     "data": {
      "text/plain": [
       "geopandas.geodataframe.GeoDataFrame"
      ]
     },
     "execution_count": 3,
     "metadata": {},
     "output_type": "execute_result"
    }
   ],
   "source": [
    "\n",
    "berlin = gpd.read_file(\"https://raw.githubusercontent.com/ljwolf/geopython/master/data/berlin-neighbourhoods.geojson\") \n",
    "#tambien se puede descargar de \"https://raw.githubusercontent.com/ljwolf/geopython/master/data/berlin-neighbourhoods.geojson\")\n",
    "\n",
    "type(berlin)"
   ]
  },
  {
   "cell_type": "code",
   "execution_count": 4,
   "id": "7d54ce6f-a712-482f-9c25-aad92fb91bc2",
   "metadata": {},
   "outputs": [
    {
     "data": {
      "text/html": [
       "<div>\n",
       "<style scoped>\n",
       "    .dataframe tbody tr th:only-of-type {\n",
       "        vertical-align: middle;\n",
       "    }\n",
       "\n",
       "    .dataframe tbody tr th {\n",
       "        vertical-align: top;\n",
       "    }\n",
       "\n",
       "    .dataframe thead th {\n",
       "        text-align: right;\n",
       "    }\n",
       "</style>\n",
       "<table border=\"1\" class=\"dataframe\">\n",
       "  <thead>\n",
       "    <tr style=\"text-align: right;\">\n",
       "      <th></th>\n",
       "      <th>neighbourhood</th>\n",
       "      <th>neighbourhood_group</th>\n",
       "      <th>geometry</th>\n",
       "    </tr>\n",
       "  </thead>\n",
       "  <tbody>\n",
       "    <tr>\n",
       "      <th>0</th>\n",
       "      <td>Blankenfelde/Niederschönhausen</td>\n",
       "      <td>Pankow</td>\n",
       "      <td>MULTIPOLYGON (((13.41191 52.61487, 13.41183 52...</td>\n",
       "    </tr>\n",
       "    <tr>\n",
       "      <th>1</th>\n",
       "      <td>Helmholtzplatz</td>\n",
       "      <td>Pankow</td>\n",
       "      <td>MULTIPOLYGON (((13.41405 52.54929, 13.41422 52...</td>\n",
       "    </tr>\n",
       "    <tr>\n",
       "      <th>2</th>\n",
       "      <td>Wiesbadener Straße</td>\n",
       "      <td>Charlottenburg-Wilm.</td>\n",
       "      <td>MULTIPOLYGON (((13.30748 52.46788, 13.30743 52...</td>\n",
       "    </tr>\n",
       "    <tr>\n",
       "      <th>3</th>\n",
       "      <td>Schmöckwitz/Karolinenhof/Rauchfangswerder</td>\n",
       "      <td>Treptow - Köpenick</td>\n",
       "      <td>MULTIPOLYGON (((13.70973 52.3963, 13.70926 52....</td>\n",
       "    </tr>\n",
       "    <tr>\n",
       "      <th>4</th>\n",
       "      <td>Müggelheim</td>\n",
       "      <td>Treptow - Köpenick</td>\n",
       "      <td>MULTIPOLYGON (((13.73762 52.4085, 13.73773 52....</td>\n",
       "    </tr>\n",
       "  </tbody>\n",
       "</table>\n",
       "</div>"
      ],
      "text/plain": [
       "                               neighbourhood   neighbourhood_group  \\\n",
       "0             Blankenfelde/Niederschönhausen                Pankow   \n",
       "1                             Helmholtzplatz                Pankow   \n",
       "2                         Wiesbadener Straße  Charlottenburg-Wilm.   \n",
       "3  Schmöckwitz/Karolinenhof/Rauchfangswerder    Treptow - Köpenick   \n",
       "4                                 Müggelheim    Treptow - Köpenick   \n",
       "\n",
       "                                            geometry  \n",
       "0  MULTIPOLYGON (((13.41191 52.61487, 13.41183 52...  \n",
       "1  MULTIPOLYGON (((13.41405 52.54929, 13.41422 52...  \n",
       "2  MULTIPOLYGON (((13.30748 52.46788, 13.30743 52...  \n",
       "3  MULTIPOLYGON (((13.70973 52.3963, 13.70926 52....  \n",
       "4  MULTIPOLYGON (((13.73762 52.4085, 13.73773 52....  "
      ]
     },
     "execution_count": 4,
     "metadata": {},
     "output_type": "execute_result"
    }
   ],
   "source": [
    "berlin.head()"
   ]
  },
  {
   "cell_type": "code",
   "execution_count": 5,
   "id": "f089a370-9fe0-4eae-ae6c-e2b5c43d0802",
   "metadata": {},
   "outputs": [
    {
     "data": {
      "text/plain": [
       "geopandas.geodataframe.GeoDataFrame"
      ]
     },
     "execution_count": 5,
     "metadata": {},
     "output_type": "execute_result"
    }
   ],
   "source": [
    "#funcion en Python para crear un geodataframe\n",
    "gdf=gpd.GeoDataFrame({\n",
    "    'geometry': [Point(1, 1), Point(2, 2)],\n",
    "    'attribute1': [1, 2],\n",
    "    'attribute2': [0.1, 0.2]})\n",
    "\n",
    "type(gdf)"
   ]
  },
  {
   "cell_type": "code",
   "execution_count": 7,
   "id": "7a25d35d-5e6f-4a10-bf31-4aef057620ec",
   "metadata": {},
   "outputs": [
    {
     "data": {
      "text/html": [
       "<div>\n",
       "<style scoped>\n",
       "    .dataframe tbody tr th:only-of-type {\n",
       "        vertical-align: middle;\n",
       "    }\n",
       "\n",
       "    .dataframe tbody tr th {\n",
       "        vertical-align: top;\n",
       "    }\n",
       "\n",
       "    .dataframe thead th {\n",
       "        text-align: right;\n",
       "    }\n",
       "</style>\n",
       "<table border=\"1\" class=\"dataframe\">\n",
       "  <thead>\n",
       "    <tr style=\"text-align: right;\">\n",
       "      <th></th>\n",
       "      <th>geometry</th>\n",
       "      <th>attribute1</th>\n",
       "      <th>attribute2</th>\n",
       "    </tr>\n",
       "  </thead>\n",
       "  <tbody>\n",
       "    <tr>\n",
       "      <th>0</th>\n",
       "      <td>POINT (1 1)</td>\n",
       "      <td>1</td>\n",
       "      <td>0.1</td>\n",
       "    </tr>\n",
       "    <tr>\n",
       "      <th>1</th>\n",
       "      <td>POINT (2 2)</td>\n",
       "      <td>2</td>\n",
       "      <td>0.2</td>\n",
       "    </tr>\n",
       "  </tbody>\n",
       "</table>\n",
       "</div>"
      ],
      "text/plain": [
       "      geometry  attribute1  attribute2\n",
       "0  POINT (1 1)           1         0.1\n",
       "1  POINT (2 2)           2         0.2"
      ]
     },
     "execution_count": 7,
     "metadata": {},
     "output_type": "execute_result"
    }
   ],
   "source": [
    "gdf.head()"
   ]
  },
  {
   "cell_type": "code",
   "execution_count": 8,
   "id": "475abff1-10c7-4d24-8aaf-a875d92f8ed5",
   "metadata": {},
   "outputs": [
    {
     "name": "stdout",
     "output_type": "stream",
     "text": [
      "<class 'geopandas.geodataframe.GeoDataFrame'>\n",
      "RangeIndex: 2 entries, 0 to 1\n",
      "Data columns (total 3 columns):\n",
      " #   Column      Non-Null Count  Dtype   \n",
      "---  ------      --------------  -----   \n",
      " 0   geometry    2 non-null      geometry\n",
      " 1   attribute1  2 non-null      int64   \n",
      " 2   attribute2  2 non-null      float64 \n",
      "dtypes: float64(1), geometry(1), int64(1)\n",
      "memory usage: 180.0 bytes\n"
     ]
    }
   ],
   "source": [
    "gdf.info()"
   ]
  },
  {
   "cell_type": "code",
   "execution_count": 10,
   "id": "0e2b7085-3090-4838-af1a-430f82520a76",
   "metadata": {},
   "outputs": [
    {
     "data": {
      "text/plain": [
       "<Axes: >"
      ]
     },
     "execution_count": 10,
     "metadata": {},
     "output_type": "execute_result"
    },
    {
     "data": {
      "image/png": "[encoded data removed]",
      "text/plain": [
       "<Figure size 640x480 with 1 Axes>"
      ]
     },
     "metadata": {},
     "output_type": "display_data"
    }
   ],
   "source": [
    "gdf.plot()"
   ]
  },
  {
   "cell_type": "code",
   "execution_count": 11,
   "id": "8efffa36-35f2-492b-89b6-8278eaed32c7",
   "metadata": {},
   "outputs": [
    {
     "data": {
      "text/html": [
       "<div>\n",
       "<style scoped>\n",
       "    .dataframe tbody tr th:only-of-type {\n",
       "        vertical-align: middle;\n",
       "    }\n",
       "\n",
       "    .dataframe tbody tr th {\n",
       "        vertical-align: top;\n",
       "    }\n",
       "\n",
       "    .dataframe thead th {\n",
       "        text-align: right;\n",
       "    }\n",
       "</style>\n",
       "<table border=\"1\" class=\"dataframe\">\n",
       "  <thead>\n",
       "    <tr style=\"text-align: right;\">\n",
       "      <th></th>\n",
       "      <th>City</th>\n",
       "      <th>Country</th>\n",
       "      <th>Latitude</th>\n",
       "      <th>Longitude</th>\n",
       "    </tr>\n",
       "  </thead>\n",
       "  <tbody>\n",
       "    <tr>\n",
       "      <th>0</th>\n",
       "      <td>Buenos Aires</td>\n",
       "      <td>Argentina</td>\n",
       "      <td>-34.58</td>\n",
       "      <td>-58.66</td>\n",
       "    </tr>\n",
       "    <tr>\n",
       "      <th>1</th>\n",
       "      <td>Brasilia</td>\n",
       "      <td>Brazil</td>\n",
       "      <td>-15.78</td>\n",
       "      <td>-47.91</td>\n",
       "    </tr>\n",
       "    <tr>\n",
       "      <th>2</th>\n",
       "      <td>Santiago</td>\n",
       "      <td>Chile</td>\n",
       "      <td>-33.45</td>\n",
       "      <td>-70.66</td>\n",
       "    </tr>\n",
       "    <tr>\n",
       "      <th>3</th>\n",
       "      <td>Bogota</td>\n",
       "      <td>Colombia</td>\n",
       "      <td>4.60</td>\n",
       "      <td>-74.08</td>\n",
       "    </tr>\n",
       "    <tr>\n",
       "      <th>4</th>\n",
       "      <td>Caracas</td>\n",
       "      <td>Venezuela</td>\n",
       "      <td>10.48</td>\n",
       "      <td>-66.86</td>\n",
       "    </tr>\n",
       "  </tbody>\n",
       "</table>\n",
       "</div>"
      ],
      "text/plain": [
       "           City    Country  Latitude  Longitude\n",
       "0  Buenos Aires  Argentina    -34.58     -58.66\n",
       "1      Brasilia     Brazil    -15.78     -47.91\n",
       "2      Santiago      Chile    -33.45     -70.66\n",
       "3        Bogota   Colombia      4.60     -74.08\n",
       "4       Caracas  Venezuela     10.48     -66.86"
      ]
     },
     "execution_count": 11,
     "metadata": {},
     "output_type": "execute_result"
    }
   ],
   "source": [
    "import pandas as pd\n",
    "\n",
    "\n",
    "df = pd.DataFrame(\n",
    "    {'City': ['Buenos Aires', 'Brasilia', 'Santiago', 'Bogota', 'Caracas'],\n",
    "     'Country': ['Argentina', 'Brazil', 'Chile', 'Colombia', 'Venezuela'],\n",
    "     'Latitude': [-34.58, -15.78, -33.45, 4.60, 10.48],\n",
    "     'Longitude': [-58.66, -47.91, -70.66, -74.08, -66.86]})\n",
    "df"
   ]
  },
  {
   "cell_type": "code",
   "execution_count": 12,
   "id": "d6cd5206-6057-41c8-a1fc-863edc41fc36",
   "metadata": {},
   "outputs": [
    {
     "data": {
      "text/html": [
       "<div>\n",
       "<style scoped>\n",
       "    .dataframe tbody tr th:only-of-type {\n",
       "        vertical-align: middle;\n",
       "    }\n",
       "\n",
       "    .dataframe tbody tr th {\n",
       "        vertical-align: top;\n",
       "    }\n",
       "\n",
       "    .dataframe thead th {\n",
       "        text-align: right;\n",
       "    }\n",
       "</style>\n",
       "<table border=\"1\" class=\"dataframe\">\n",
       "  <thead>\n",
       "    <tr style=\"text-align: right;\">\n",
       "      <th></th>\n",
       "      <th>City</th>\n",
       "      <th>Country</th>\n",
       "      <th>Latitude</th>\n",
       "      <th>Longitude</th>\n",
       "      <th>Coordinates</th>\n",
       "    </tr>\n",
       "  </thead>\n",
       "  <tbody>\n",
       "    <tr>\n",
       "      <th>0</th>\n",
       "      <td>Buenos Aires</td>\n",
       "      <td>Argentina</td>\n",
       "      <td>-34.58</td>\n",
       "      <td>-58.66</td>\n",
       "      <td>(-58.66, -34.58)</td>\n",
       "    </tr>\n",
       "    <tr>\n",
       "      <th>1</th>\n",
       "      <td>Brasilia</td>\n",
       "      <td>Brazil</td>\n",
       "      <td>-15.78</td>\n",
       "      <td>-47.91</td>\n",
       "      <td>(-47.91, -15.78)</td>\n",
       "    </tr>\n",
       "    <tr>\n",
       "      <th>2</th>\n",
       "      <td>Santiago</td>\n",
       "      <td>Chile</td>\n",
       "      <td>-33.45</td>\n",
       "      <td>-70.66</td>\n",
       "      <td>(-70.66, -33.45)</td>\n",
       "    </tr>\n",
       "    <tr>\n",
       "      <th>3</th>\n",
       "      <td>Bogota</td>\n",
       "      <td>Colombia</td>\n",
       "      <td>4.60</td>\n",
       "      <td>-74.08</td>\n",
       "      <td>(-74.08, 4.6)</td>\n",
       "    </tr>\n",
       "    <tr>\n",
       "      <th>4</th>\n",
       "      <td>Caracas</td>\n",
       "      <td>Venezuela</td>\n",
       "      <td>10.48</td>\n",
       "      <td>-66.86</td>\n",
       "      <td>(-66.86, 10.48)</td>\n",
       "    </tr>\n",
       "  </tbody>\n",
       "</table>\n",
       "</div>"
      ],
      "text/plain": [
       "           City    Country  Latitude  Longitude       Coordinates\n",
       "0  Buenos Aires  Argentina    -34.58     -58.66  (-58.66, -34.58)\n",
       "1      Brasilia     Brazil    -15.78     -47.91  (-47.91, -15.78)\n",
       "2      Santiago      Chile    -33.45     -70.66  (-70.66, -33.45)\n",
       "3        Bogota   Colombia      4.60     -74.08     (-74.08, 4.6)\n",
       "4       Caracas  Venezuela     10.48     -66.86   (-66.86, 10.48)"
      ]
     },
     "execution_count": 12,
     "metadata": {},
     "output_type": "execute_result"
    }
   ],
   "source": [
    "df['Coordinates']  = list(zip(df['Longitude'], df.Latitude))\n",
    "\n",
    "df"
   ]
  },
  {
   "cell_type": "code",
   "execution_count": 13,
   "id": "35499107-46c6-491e-9581-d4f500939413",
   "metadata": {},
   "outputs": [
    {
     "data": {
      "text/html": [
       "<div>\n",
       "<style scoped>\n",
       "    .dataframe tbody tr th:only-of-type {\n",
       "        vertical-align: middle;\n",
       "    }\n",
       "\n",
       "    .dataframe tbody tr th {\n",
       "        vertical-align: top;\n",
       "    }\n",
       "\n",
       "    .dataframe thead th {\n",
       "        text-align: right;\n",
       "    }\n",
       "</style>\n",
       "<table border=\"1\" class=\"dataframe\">\n",
       "  <thead>\n",
       "    <tr style=\"text-align: right;\">\n",
       "      <th></th>\n",
       "      <th>City</th>\n",
       "      <th>Country</th>\n",
       "      <th>Latitude</th>\n",
       "      <th>Longitude</th>\n",
       "      <th>Coordinates</th>\n",
       "    </tr>\n",
       "  </thead>\n",
       "  <tbody>\n",
       "    <tr>\n",
       "      <th>0</th>\n",
       "      <td>Buenos Aires</td>\n",
       "      <td>Argentina</td>\n",
       "      <td>-34.58</td>\n",
       "      <td>-58.66</td>\n",
       "      <td>POINT (-58.66 -34.58)</td>\n",
       "    </tr>\n",
       "    <tr>\n",
       "      <th>1</th>\n",
       "      <td>Brasilia</td>\n",
       "      <td>Brazil</td>\n",
       "      <td>-15.78</td>\n",
       "      <td>-47.91</td>\n",
       "      <td>POINT (-47.91 -15.78)</td>\n",
       "    </tr>\n",
       "    <tr>\n",
       "      <th>2</th>\n",
       "      <td>Santiago</td>\n",
       "      <td>Chile</td>\n",
       "      <td>-33.45</td>\n",
       "      <td>-70.66</td>\n",
       "      <td>POINT (-70.66 -33.45)</td>\n",
       "    </tr>\n",
       "    <tr>\n",
       "      <th>3</th>\n",
       "      <td>Bogota</td>\n",
       "      <td>Colombia</td>\n",
       "      <td>4.60</td>\n",
       "      <td>-74.08</td>\n",
       "      <td>POINT (-74.08 4.6)</td>\n",
       "    </tr>\n",
       "    <tr>\n",
       "      <th>4</th>\n",
       "      <td>Caracas</td>\n",
       "      <td>Venezuela</td>\n",
       "      <td>10.48</td>\n",
       "      <td>-66.86</td>\n",
       "      <td>POINT (-66.86 10.48)</td>\n",
       "    </tr>\n",
       "  </tbody>\n",
       "</table>\n",
       "</div>"
      ],
      "text/plain": [
       "           City    Country  Latitude  Longitude            Coordinates\n",
       "0  Buenos Aires  Argentina    -34.58     -58.66  POINT (-58.66 -34.58)\n",
       "1      Brasilia     Brazil    -15.78     -47.91  POINT (-47.91 -15.78)\n",
       "2      Santiago      Chile    -33.45     -70.66  POINT (-70.66 -33.45)\n",
       "3        Bogota   Colombia      4.60     -74.08     POINT (-74.08 4.6)\n",
       "4       Caracas  Venezuela     10.48     -66.86   POINT (-66.86 10.48)"
      ]
     },
     "execution_count": 13,
     "metadata": {},
     "output_type": "execute_result"
    }
   ],
   "source": [
    "df['Coordinates'] = df['Coordinates'].apply(Point)\n",
    "\n",
    "df"
   ]
  },
  {
   "cell_type": "code",
   "execution_count": 16,
   "id": "c4e0ab1f-810c-41fc-8204-4633d0a7efd1",
   "metadata": {},
   "outputs": [
    {
     "data": {
      "text/html": [
       "<div>\n",
       "<style scoped>\n",
       "    .dataframe tbody tr th:only-of-type {\n",
       "        vertical-align: middle;\n",
       "    }\n",
       "\n",
       "    .dataframe tbody tr th {\n",
       "        vertical-align: top;\n",
       "    }\n",
       "\n",
       "    .dataframe thead th {\n",
       "        text-align: right;\n",
       "    }\n",
       "</style>\n",
       "<table border=\"1\" class=\"dataframe\">\n",
       "  <thead>\n",
       "    <tr style=\"text-align: right;\">\n",
       "      <th></th>\n",
       "      <th>City</th>\n",
       "      <th>Country</th>\n",
       "      <th>Latitude</th>\n",
       "      <th>Longitude</th>\n",
       "      <th>Coordinates</th>\n",
       "    </tr>\n",
       "  </thead>\n",
       "  <tbody>\n",
       "    <tr>\n",
       "      <th>0</th>\n",
       "      <td>Buenos Aires</td>\n",
       "      <td>Argentina</td>\n",
       "      <td>-34.58</td>\n",
       "      <td>-58.66</td>\n",
       "      <td>POINT (-58.66 -34.58)</td>\n",
       "    </tr>\n",
       "    <tr>\n",
       "      <th>1</th>\n",
       "      <td>Brasilia</td>\n",
       "      <td>Brazil</td>\n",
       "      <td>-15.78</td>\n",
       "      <td>-47.91</td>\n",
       "      <td>POINT (-47.91 -15.78)</td>\n",
       "    </tr>\n",
       "    <tr>\n",
       "      <th>2</th>\n",
       "      <td>Santiago</td>\n",
       "      <td>Chile</td>\n",
       "      <td>-33.45</td>\n",
       "      <td>-70.66</td>\n",
       "      <td>POINT (-70.66 -33.45)</td>\n",
       "    </tr>\n",
       "    <tr>\n",
       "      <th>3</th>\n",
       "      <td>Bogota</td>\n",
       "      <td>Colombia</td>\n",
       "      <td>4.60</td>\n",
       "      <td>-74.08</td>\n",
       "      <td>POINT (-74.08 4.6)</td>\n",
       "    </tr>\n",
       "    <tr>\n",
       "      <th>4</th>\n",
       "      <td>Caracas</td>\n",
       "      <td>Venezuela</td>\n",
       "      <td>10.48</td>\n",
       "      <td>-66.86</td>\n",
       "      <td>POINT (-66.86 10.48)</td>\n",
       "    </tr>\n",
       "  </tbody>\n",
       "</table>\n",
       "</div>"
      ],
      "text/plain": [
       "           City    Country  Latitude  Longitude            Coordinates\n",
       "0  Buenos Aires  Argentina    -34.58     -58.66  POINT (-58.66 -34.58)\n",
       "1      Brasilia     Brazil    -15.78     -47.91  POINT (-47.91 -15.78)\n",
       "2      Santiago      Chile    -33.45     -70.66  POINT (-70.66 -33.45)\n",
       "3        Bogota   Colombia      4.60     -74.08     POINT (-74.08 4.6)\n",
       "4       Caracas  Venezuela     10.48     -66.86   POINT (-66.86 10.48)"
      ]
     },
     "execution_count": 16,
     "metadata": {},
     "output_type": "execute_result"
    }
   ],
   "source": [
    "gdf = gpd.GeoDataFrame(df, geometry='Coordinates')\n",
    "\n",
    "gdf"
   ]
  },
  {
   "cell_type": "code",
   "execution_count": 19,
   "id": "a892aa6e-747e-4f3e-9cae-584044587d79",
   "metadata": {},
   "outputs": [
    {
     "data": {
      "text/plain": [
       "pandas.core.frame.DataFrame"
      ]
     },
     "execution_count": 19,
     "metadata": {},
     "output_type": "execute_result"
    }
   ],
   "source": [
    "type(gdf)"
   ]
  },
  {
   "cell_type": "code",
   "execution_count": 21,
   "id": "8d17443a-f730-459a-8d7f-c62772d1e4ad",
   "metadata": {},
   "outputs": [
    {
     "name": "stdout",
     "output_type": "stream",
     "text": [
      "None\n"
     ]
    }
   ],
   "source": [
    "print(gdf.crs)"
   ]
  },
  {
   "cell_type": "code",
   "execution_count": 22,
   "id": "e846e669-68f2-4ff9-a86b-9ca71cb182b3",
   "metadata": {},
   "outputs": [
    {
     "data": {
      "text/plain": [
       "pandas.core.frame.DataFrame"
      ]
     },
     "execution_count": 22,
     "metadata": {},
     "output_type": "execute_result"
    }
   ],
   "source": [
    "import pandas as pd\n",
    "\n",
    "df = pd.read_csv(\"https://geographicdata.science/book/_downloads/7fb86b605af15b3c9cbd9bfcbead23e9/tokyo_clean.csv\")\n",
    "\n",
    "type(df)"
   ]
  },
  {
   "cell_type": "code",
   "execution_count": 23,
   "id": "539b5772-4e80-4bae-be9d-672326682152",
   "metadata": {},
   "outputs": [
    {
     "data": {
      "text/html": [
       "<div>\n",
       "<style scoped>\n",
       "    .dataframe tbody tr th:only-of-type {\n",
       "        vertical-align: middle;\n",
       "    }\n",
       "\n",
       "    .dataframe tbody tr th {\n",
       "        vertical-align: top;\n",
       "    }\n",
       "\n",
       "    .dataframe thead th {\n",
       "        text-align: right;\n",
       "    }\n",
       "</style>\n",
       "<table border=\"1\" class=\"dataframe\">\n",
       "  <thead>\n",
       "    <tr style=\"text-align: right;\">\n",
       "      <th></th>\n",
       "      <th>user_id</th>\n",
       "      <th>longitude</th>\n",
       "      <th>latitude</th>\n",
       "      <th>date_taken</th>\n",
       "      <th>photo/video_page_url</th>\n",
       "      <th>x</th>\n",
       "      <th>y</th>\n",
       "    </tr>\n",
       "  </thead>\n",
       "  <tbody>\n",
       "    <tr>\n",
       "      <th>0</th>\n",
       "      <td>10727420@N00</td>\n",
       "      <td>139.700499</td>\n",
       "      <td>35.674000</td>\n",
       "      <td>2010-04-09 17:26:25.0</td>\n",
       "      <td>http://www.flickr.com/photos/10727420@N00/4545...</td>\n",
       "      <td>1.555139e+07</td>\n",
       "      <td>4.255856e+06</td>\n",
       "    </tr>\n",
       "    <tr>\n",
       "      <th>1</th>\n",
       "      <td>8819274@N04</td>\n",
       "      <td>139.766521</td>\n",
       "      <td>35.709095</td>\n",
       "      <td>2007-02-10 16:08:40.0</td>\n",
       "      <td>http://www.flickr.com/photos/8819274@N04/26503...</td>\n",
       "      <td>1.555874e+07</td>\n",
       "      <td>4.260667e+06</td>\n",
       "    </tr>\n",
       "    <tr>\n",
       "      <th>2</th>\n",
       "      <td>62068690@N00</td>\n",
       "      <td>139.765632</td>\n",
       "      <td>35.694482</td>\n",
       "      <td>2008-12-21 15:45:31.0</td>\n",
       "      <td>http://www.flickr.com/photos/62068690@N00/3125...</td>\n",
       "      <td>1.555864e+07</td>\n",
       "      <td>4.258664e+06</td>\n",
       "    </tr>\n",
       "    <tr>\n",
       "      <th>3</th>\n",
       "      <td>49503094041@N01</td>\n",
       "      <td>139.784391</td>\n",
       "      <td>35.548589</td>\n",
       "      <td>2011-11-11 05:48:54.0</td>\n",
       "      <td>http://www.flickr.com/photos/49503094041@N01/6...</td>\n",
       "      <td>1.556073e+07</td>\n",
       "      <td>4.238684e+06</td>\n",
       "    </tr>\n",
       "    <tr>\n",
       "      <th>4</th>\n",
       "      <td>40443199@N00</td>\n",
       "      <td>139.768753</td>\n",
       "      <td>35.671521</td>\n",
       "      <td>2006-04-06 16:42:49.0</td>\n",
       "      <td>http://www.flickr.com/photos/40443199@N00/2482...</td>\n",
       "      <td>1.555899e+07</td>\n",
       "      <td>4.255517e+06</td>\n",
       "    </tr>\n",
       "  </tbody>\n",
       "</table>\n",
       "</div>"
      ],
      "text/plain": [
       "           user_id   longitude   latitude             date_taken  \\\n",
       "0     10727420@N00  139.700499  35.674000  2010-04-09 17:26:25.0   \n",
       "1      8819274@N04  139.766521  35.709095  2007-02-10 16:08:40.0   \n",
       "2     62068690@N00  139.765632  35.694482  2008-12-21 15:45:31.0   \n",
       "3  49503094041@N01  139.784391  35.548589  2011-11-11 05:48:54.0   \n",
       "4     40443199@N00  139.768753  35.671521  2006-04-06 16:42:49.0   \n",
       "\n",
       "                                photo/video_page_url             x  \\\n",
       "0  http://www.flickr.com/photos/10727420@N00/4545...  1.555139e+07   \n",
       "1  http://www.flickr.com/photos/8819274@N04/26503...  1.555874e+07   \n",
       "2  http://www.flickr.com/photos/62068690@N00/3125...  1.555864e+07   \n",
       "3  http://www.flickr.com/photos/49503094041@N01/6...  1.556073e+07   \n",
       "4  http://www.flickr.com/photos/40443199@N00/2482...  1.555899e+07   \n",
       "\n",
       "              y  \n",
       "0  4.255856e+06  \n",
       "1  4.260667e+06  \n",
       "2  4.258664e+06  \n",
       "3  4.238684e+06  \n",
       "4  4.255517e+06  "
      ]
     },
     "execution_count": 23,
     "metadata": {},
     "output_type": "execute_result"
    }
   ],
   "source": [
    "df.head()"
   ]
  },
  {
   "cell_type": "code",
   "execution_count": 24,
   "id": "bccd8427-ca2f-4f3a-ad59-1b19d1fe9464",
   "metadata": {},
   "outputs": [
    {
     "name": "stdout",
     "output_type": "stream",
     "text": [
      "<class 'pandas.core.frame.DataFrame'>\n",
      "RangeIndex: 10000 entries, 0 to 9999\n",
      "Data columns (total 7 columns):\n",
      " #   Column                Non-Null Count  Dtype  \n",
      "---  ------                --------------  -----  \n",
      " 0   user_id               10000 non-null  object \n",
      " 1   longitude             10000 non-null  float64\n",
      " 2   latitude              10000 non-null  float64\n",
      " 3   date_taken            10000 non-null  object \n",
      " 4   photo/video_page_url  10000 non-null  object \n",
      " 5   x                     10000 non-null  float64\n",
      " 6   y                     10000 non-null  float64\n",
      "dtypes: float64(4), object(3)\n",
      "memory usage: 547.0+ KB\n"
     ]
    }
   ],
   "source": [
    "df.info()"
   ]
  },
  {
   "cell_type": "code",
   "execution_count": null,
   "id": "f1248a06-29b4-448f-b812-57de33aae748",
   "metadata": {},
   "outputs": [],
   "source": []
  }
 ],
 "metadata": {
  "kernelspec": {
   "display_name": "GeoSpatial",
   "language": "python",
   "name": "geospatial"
  },
  "language_info": {
   "codemirror_mode": {
    "name": "ipython",
    "version": 3
   },
   "file_extension": ".py",
   "mimetype": "text/x-python",
   "name": "python",
   "nbconvert_exporter": "python",
   "pygments_lexer": "ipython3",
   "version": "3.13.3"
  }
 },
 "nbformat": 4,
 "nbformat_minor": 5
}
